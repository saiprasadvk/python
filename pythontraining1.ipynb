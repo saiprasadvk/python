{
 "cells": [
  {
   "cell_type": "code",
   "execution_count": 26,
   "metadata": {},
   "outputs": [
    {
     "name": "stdout",
     "output_type": "stream",
     "text": [
      "Enter the year :1300\n",
      "The mentioned year is not a leap year\n"
     ]
    }
   ],
   "source": [
    "# Python Program to Check Leap Year\n",
    "a = int(input(\"Enter the year :\"))\n",
    "\n",
    "if ((a%4 == 0) or (year%400 == 0)) and (year%100 != 0):\n",
    "    print(\"the mentioned year is a leap year\")\n",
    "else:\n",
    "    print(\"The mentioned year is not a leap year\")"
   ]
  },
  {
   "cell_type": "code",
   "execution_count": 28,
   "metadata": {},
   "outputs": [
    {
     "name": "stdout",
     "output_type": "stream",
     "text": [
      "Enter the year :24\n",
      "The given number is odd\n"
     ]
    }
   ],
   "source": [
    "#Odd or Even\n",
    "\n",
    "a = int(input(\"Enter the year :\"))\n",
    "\n",
    "if a%3 == 0:\n",
    "    print(\"The given number is odd\")\n",
    "elif a%2 == 0:\n",
    "    print(\"The given number is even\")"
   ]
  },
  {
   "cell_type": "code",
   "execution_count": 35,
   "metadata": {},
   "outputs": [
    {
     "name": "stdout",
     "output_type": "stream",
     "text": [
      "Enter the number :100\n",
      "2 4 6 8 10 12 14 16 18 20 22 24 26 28 30 32 34 36 38 40 42 44 46 48 50 52 54 56 58 60 62 64 66 68 70 72 74 76 78 80 82 84 86 88 90 92 94 96 98 100 "
     ]
    }
   ],
   "source": [
    "#print Even Numbers from 1 to 100\n",
    "\n",
    "num = int(input(\"Enter the number :\"))\n",
    "\n",
    "for i in range(1,num+1):\n",
    "    if i%2 == 0:\n",
    "        print(i, end = \" \")    "
   ]
  },
  {
   "cell_type": "code",
   "execution_count": 36,
   "metadata": {},
   "outputs": [
    {
     "name": "stdout",
     "output_type": "stream",
     "text": [
      "Enter the number :100\n",
      "3 6 9 12 15 18 21 24 27 30 33 36 39 42 45 48 51 54 57 60 63 66 69 72 75 78 81 84 87 90 93 96 99 "
     ]
    }
   ],
   "source": [
    "#print odd Numbers from 1 to 100\n",
    "\n",
    "num = int(input(\"Enter the number :\"))\n",
    "\n",
    "for i in range(1,num+1):\n",
    "    if i%3 == 0:\n",
    "        print(i, end = \" \")  "
   ]
  },
  {
   "cell_type": "code",
   "execution_count": 45,
   "metadata": {},
   "outputs": [
    {
     "name": "stdout",
     "output_type": "stream",
     "text": [
      "Enter the number :44\n",
      "The given number is postive\n"
     ]
    }
   ],
   "source": [
    "#Positive or Negative\n",
    "\n",
    "num = int(input(\"Enter the number :\"))\n",
    "\n",
    "if num >= 0:\n",
    "    print(\"The given number is postive\")\n",
    "else:\n",
    "    print(\"The given number is negative\")"
   ]
  },
  {
   "cell_type": "code",
   "execution_count": 51,
   "metadata": {},
   "outputs": [
    {
     "name": "stdout",
     "output_type": "stream",
     "text": [
      "Enter the product price :100\n",
      "Enter the sale price :50\n",
      "Loss\n"
     ]
    }
   ],
   "source": [
    "#Profit Or Loss\n",
    "    \n",
    "product_price = float(input(\"Enter the product price :\"))    \n",
    "sale_price = float(input(\"Enter the sale price :\"))\n",
    "\n",
    "if (product_price - sale_price) > 0:\n",
    "    print(\"Loss\")\n",
    "elif (sale_price - product_price) > 0:  \n",
    "    print(\"profit\")\n",
    "else:\n",
    "    print(\"No profit or loss\")"
   ]
  },
  {
   "cell_type": "code",
   "execution_count": 57,
   "metadata": {
    "scrolled": true
   },
   "outputs": [
    {
     "name": "stdout",
     "output_type": "stream",
     "text": [
      "81\n"
     ]
    }
   ],
   "source": [
    "#Square of a Number\n",
    "\n",
    "a = 9\n",
    "b = a**2\n",
    "print(b)"
   ]
  },
  {
   "cell_type": "code",
   "execution_count": 58,
   "metadata": {},
   "outputs": [
    {
     "data": {
      "text/plain": [
       "81"
      ]
     },
     "execution_count": 58,
     "metadata": {},
     "output_type": "execute_result"
    }
   ],
   "source": [
    "def square(a):\n",
    "    b = a**2\n",
    "    return b\n",
    "\n",
    "square(9)"
   ]
  },
  {
   "cell_type": "code",
   "execution_count": 1,
   "metadata": {},
   "outputs": [
    {
     "name": "stdout",
     "output_type": "stream",
     "text": [
      "\n",
      "Please Enter the Number to Check for Armstrong: 87654\n",
      "\n",
      " 87654 is Not a Armstrong Number.\n",
      "\n"
     ]
    }
   ],
   "source": [
    "# Python Program For Armstrong Number using For Loop\n",
    "\n",
    "Number = int(input(\"\\nPlease Enter the Number to Check for Armstrong: \"))\n",
    "\n",
    "# Initializing Sum and Number of Digits\n",
    "Sum = 0\n",
    "Times = 0\n",
    "           \n",
    "# Calculating Number of individual digits\n",
    "Temp = Number\n",
    "while Temp > 0:\n",
    "           Times = Times + 1\n",
    "           Temp = Temp // 10\n",
    "\n",
    "# Finding Armstrong Number\n",
    "Temp = Number\n",
    "for n in range(1, Temp + 1):\n",
    "           Reminder = Temp % 10\n",
    "           Sum = Sum + (Reminder ** Times)\n",
    "           Temp //= 10\n",
    "\n",
    "if Number == Sum:\n",
    "           print(\"\\n %d is Armstrong Number.\\n\" %Number)\n",
    "else:\n",
    "           print(\"\\n %d is Not a Armstrong Number.\\n\" %Number)"
   ]
  },
  {
   "cell_type": "code",
   "execution_count": 20,
   "metadata": {},
   "outputs": [
    {
     "name": "stdout",
     "output_type": "stream",
     "text": [
      "Enter the number :87766545678\n",
      "The total count of the digits are 11\n"
     ]
    }
   ],
   "source": [
    "def number(a):\n",
    "    count = 0\n",
    "    while a > 0:\n",
    "        count = count + 1\n",
    "        a = a//10\n",
    "    return count  \n",
    "  \n",
    "a = int(input(\"Enter the number :\"))\n",
    "\n",
    "d = number(a)\n",
    "print(\"The total count of the digits are\",d)"
   ]
  },
  {
   "cell_type": "code",
   "execution_count": 21,
   "metadata": {},
   "outputs": [
    {
     "name": "stdout",
     "output_type": "stream",
     "text": [
      "\n",
      "Please Enter the Range Number: 5\n",
      "0\n",
      "1\n",
      "1\n",
      "2\n",
      "3\n"
     ]
    }
   ],
   "source": [
    "# Python Fibonacci series Program using For Loop\n",
    "\n",
    "Number = int(input(\"\\nPlease Enter the Range Number: \"))\n",
    "\n",
    "# Initializing First and Second Values of a Series\n",
    "First_Value = 0Alphabet or not\n",
    "Second_Value = 1\n",
    "           \n",
    "# Find & Displaying Fibonacci series\n",
    "for Num in range(0, Number):\n",
    "           if(Num <= 1):\n",
    "                      Next = Num\n",
    "           else:\n",
    "                      Next = First_Value + Second_Value\n",
    "                      First_Value = Second_Value\n",
    "                      Second_Value = Next\n",
    "           print(Next)"
   ]
  },
  {
   "cell_type": "code",
   "execution_count": 22,
   "metadata": {},
   "outputs": [
    {
     "name": "stdout",
     "output_type": "stream",
     "text": [
      "Please Enter Your Character : 4\n",
      "<class 'str'>\n",
      "The given input is digits\n"
     ]
    }
   ],
   "source": [
    "##Alphabet or not\n",
    "\n",
    "check = input(\"Please Enter Your Character : \")\n",
    "print(type(check))\n",
    "\n",
    "if ((check >= 'a' and check <= 'z') or (check >= 'A' and check <='Z')):\n",
    "    print(\"The given input is Alphabet\")\n",
    "elif ((check >= '0' and check <= '9')):\n",
    "    print(\"The given input is digits\")"
   ]
  },
  {
   "cell_type": "code",
   "execution_count": 27,
   "metadata": {},
   "outputs": [
    {
     "name": "stdout",
     "output_type": "stream",
     "text": [
      "Please Enter Your Own Character : f\n",
      "The Given Character  f is a Lowercase Alphabet\n"
     ]
    }
   ],
   "source": [
    "#Check Upper case or lowercase aplhabet\n",
    "#We can use  islower and isupper string or ASCII Values\n",
    "\n",
    "ch = input(\"Please Enter Your Own Character : \")\n",
    "\n",
    "if(ch.islower()):\n",
    "    print(\"The Given Character \", ch, \"is a Lowercase Alphabet\")\n",
    "elif(ch.isupper()):\n",
    "    print(\"The Given Character \", ch, \"is a Uppercase Alphabet\")\n",
    "else:\n",
    "    print(\"The Given Character \", ch, \"is not aplhbet\")"
   ]
  },
  {
   "cell_type": "code",
   "execution_count": 36,
   "metadata": {},
   "outputs": [
    {
     "name": "stdout",
     "output_type": "stream",
     "text": [
      "Enter the character E\n",
      "The given input is vowel\n"
     ]
    }
   ],
   "source": [
    "#Vowel or Consonant\n",
    "#a e i o u\n",
    "\n",
    "ch = input(\"Enter the character \")\n",
    "\n",
    "if (ch == 'a' or ch == 'e' or ch == 'i' or ch == 'o' or ch == 'u') or (ch == 'A' or ch == 'E' or ch == 'I' or ch == 'O' or ch == 'U'):\n",
    "    print(\"The given input is vowel\")\n",
    "else:\n",
    "    print(\"The given input\",ch,\"is constant\")"
   ]
  },
  {
   "cell_type": "code",
   "execution_count": 21,
   "metadata": {},
   "outputs": [
    {
     "name": "stdout",
     "output_type": "stream",
     "text": [
      "The value of ch is p = 112\n",
      "The ASCII Value of chs is p = 80\n"
     ]
    }
   ],
   "source": [
    "#Find the ASCII value\n",
    "\n",
    "ch = \"p\"\n",
    "\n",
    "print(\"The value of ch is %c = %d\"%(ch,ord(ch)))\n",
    "\n",
    "#For than one charater\n",
    "chs = \"Python\"\n",
    "\n",
    "print(\"The ASCII Value of chs is %c = %d\"%(ch,ord(chs[0])))\n"
   ]
  },
  {
   "cell_type": "code",
   "execution_count": 29,
   "metadata": {},
   "outputs": [
    {
     "name": "stdout",
     "output_type": "stream",
     "text": [
      "Enter the chars:py\n",
      "The ASCII Value of m is p = 112\n",
      "The ASCII Value of m is y = 121\n",
      "The ASCII Value of m is p = 112\n",
      "The ASCII Value of m is y = 121\n"
     ]
    }
   ],
   "source": [
    "#Find the total char of the ASCII values\n",
    "\n",
    "m = input(\"Enter the chars:\")\n",
    "\n",
    "#Using For\n",
    "\n",
    "for i in range(len(m)):\n",
    "    print(\"The ASCII Value of m is %c = %d\"%(m[i],ord(m[i])))\n",
    "\n",
    "    \n",
    "#Using While\n",
    "n = 0\n",
    "\n",
    "while(n < len(m)):\n",
    "    print(\"The ASCII Value of m is %c = %d\"%(m[n],ord(m[n])))\n",
    "    n = n + 1 "
   ]
  },
  {
   "cell_type": "code",
   "execution_count": 34,
   "metadata": {},
   "outputs": [
    {
     "name": "stdout",
     "output_type": "stream",
     "text": [
      "Enter the chars:sai\n",
      "Enter the chars:prasad\n",
      "The combine chars of input is saiprasad\n"
     ]
    }
   ],
   "source": [
    "#Concatenate Strings\n",
    "\n",
    "m = input(\"Enter the chars:\")\n",
    "n = input(\"Enter the chars:\")\n",
    "\n",
    "concat = m+n\n",
    "\n",
    "print(\"The combine chars of input is\",concat)"
   ]
  },
  {
   "cell_type": "code",
   "execution_count": 42,
   "metadata": {},
   "outputs": [
    {
     "name": "stdout",
     "output_type": "stream",
     "text": [
      "Enter the chars:saI prasad\n",
      "SAI PRASAD\n"
     ]
    }
   ],
   "source": [
    "#Convert String to Uppercase\n",
    "\n",
    "m = input(\"Enter the chars:\")\n",
    "\n",
    "m = m.upper()\n",
    "print(m)"
   ]
  },
  {
   "cell_type": "code",
   "execution_count": 46,
   "metadata": {},
   "outputs": [
    {
     "name": "stdout",
     "output_type": "stream",
     "text": [
      "Please Enter your Own String : sai\n",
      "\n",
      "Original String in Lowercase  =   sai\n",
      "The Given String in Uppercase =   SAI\n"
     ]
    }
   ],
   "source": [
    "# Python Program to Convert String to Uppercase\n",
    " \n",
    "m = input(\"Please Enter your Own String : \")\n",
    "n = ''\n",
    "\n",
    "for i in m:\n",
    "    if(i >= 'a' and i <= 'z'):\n",
    "        n = n + chr((ord(i) - 32))\n",
    "    else:\n",
    "        n = n + i\n",
    " \n",
    "print(\"\\nOriginal String in Lowercase  =  \", m)\n",
    "print(\"The Given String in Uppercase =  \", n)"
   ]
  },
  {
   "cell_type": "code",
   "execution_count": 1,
   "metadata": {},
   "outputs": [
    {
     "name": "stdout",
     "output_type": "stream",
     "text": [
      "Please Enter your Own String : SaI\n",
      "s i \n",
      "Original String in Lowercase  =   SaI\n",
      "The Given String in Uppercase =   sai\n"
     ]
    }
   ],
   "source": [
    "# Python Program to Convert String to lowercase\n",
    " \n",
    "m = input(\"Please Enter your Own String : \")\n",
    "n = ''\n",
    "\n",
    "for i in m:\n",
    "    if(i >= 'A' and i <= 'Z'):\n",
    "        n = n + chr((ord(i) + 32))\n",
    "        print(chr(ord(i) + 32), end = \" \")\n",
    "    else:\n",
    "        n = n + i\n",
    " \n",
    "print(\"\\nOriginal String in Lowercase  =  \", m)\n",
    "print(\"The Given String in Uppercase =  \", n)"
   ]
  },
  {
   "cell_type": "code",
   "execution_count": 2,
   "metadata": {},
   "outputs": [
    {
     "name": "stdout",
     "output_type": "stream",
     "text": [
      "Enter the string:sai\n",
      "Enter the chars:s\n",
      "1\n"
     ]
    }
   ],
   "source": [
    "#Count the chars in string\n",
    "\n",
    "m = input(\"Enter the string:\")\n",
    "n = input(\"Enter the chars:\")\n",
    "\n",
    "count = 0\n",
    "\n",
    "for i in range(len(m)):\n",
    "    if(m[i] == n):\n",
    "        count = count + 1\n",
    "        \n",
    "print(count)        \n",
    "    "
   ]
  },
  {
   "cell_type": "code",
   "execution_count": 1,
   "metadata": {},
   "outputs": [
    {
     "name": "stdout",
     "output_type": "stream",
     "text": [
      "Enter the string:sai\n",
      "The total count in vowels is 2\n",
      "The total consonants is 1\n"
     ]
    }
   ],
   "source": [
    "#Count Vowels and Consonants in a String\n",
    "\n",
    "m = input(\"Enter the string:\")\n",
    "\n",
    "count = 0\n",
    "consonants = 0\n",
    "\n",
    "m = m.lower()\n",
    "\n",
    "for n in m:\n",
    "    if(n == 'a' or n == 'e' or n == 'i' or n == 'u'):\n",
    "        count = count + 1\n",
    "    else:\n",
    "        consonants = consonants + 1\n",
    "        \n",
    "print(\"The total count in vowels is\",count)\n",
    "print(\"The total consonants is\",consonants)\n",
    "        \n",
    "        \n",
    "        "
   ]
  },
  {
   "cell_type": "code",
   "execution_count": 5,
   "metadata": {},
   "outputs": [
    {
     "name": "stdout",
     "output_type": "stream",
     "text": [
      "Enter the string :wow1\n",
      "Not a plindrome\n"
     ]
    }
   ],
   "source": [
    "#Palindrome or Not\n",
    "\n",
    "string = input(\"Enter the string :\")\n",
    "\n",
    "p = string[:: - 1]\n",
    "\n",
    "if (string == p):\n",
    "    print(\"the given input is palindrome\")\n",
    "else:\n",
    "    print(\"Not a plindrome\")"
   ]
  },
  {
   "cell_type": "code",
   "execution_count": 6,
   "metadata": {},
   "outputs": [
    {
     "name": "stdout",
     "output_type": "stream",
     "text": [
      "Please enter your own String : enter\n",
      "String in reverse Order :   retne\n"
     ]
    }
   ],
   "source": [
    "# Python Program to Check a Given String is Palindrome or Not\n",
    "\n",
    "string = input(\"Please enter your own String : \")\n",
    "str1 = \"\"\n",
    "\n",
    "for i in string:\n",
    "    str1 = i + str1  \n",
    "print(\"String in reverse Order :  \", str1)\n",
    "\n",
    "#if(string == str1):\n",
    "##   print(\"This is a Palindrome String\")\n",
    "#else:\n",
    "#   print(\"This is Not a Palindrome String\")\n"
   ]
  },
  {
   "cell_type": "code",
   "execution_count": 14,
   "metadata": {},
   "outputs": [
    {
     "name": "stdout",
     "output_type": "stream",
     "text": [
      "Please Enter your Own String : sai\n",
      "The Character at 0 Index Position = s\n",
      "The Character at 1 Index Position = a\n",
      "The Character at 2 Index Position = i\n"
     ]
    }
   ],
   "source": [
    "# Python program to Print Characters in a String\n",
    " \n",
    "str1 = input(\"Please Enter your Own String : \")\n",
    " \n",
    "for i in range(len(str1)):\n",
    "    print(\"The Character at %d Index Position = %c\"%(i, str1[i]))"
   ]
  },
  {
   "cell_type": "code",
   "execution_count": 15,
   "metadata": {},
   "outputs": [
    {
     "name": "stdout",
     "output_type": "stream",
     "text": [
      "Please Enter your Own String : sai prasad\n",
      "Modified String :   sai_prasad\n"
     ]
    }
   ],
   "source": [
    "# Python program to Replace Blank Space with Hyphen in a String\n",
    " \n",
    "str1 = input(\"Please Enter your Own String : \")\n",
    "\n",
    "str2 = ''\n",
    "\n",
    "for i in str1:\n",
    "    if(i == ' '):\n",
    "        str2 = str2 + '_'\n",
    "    else:\n",
    "        str2 = str2 + i\n",
    "        \n",
    "print(\"Modified String :  \", str2)"
   ]
  },
  {
   "cell_type": "code",
   "execution_count": 3,
   "metadata": {},
   "outputs": [
    {
     "name": "stdout",
     "output_type": "stream",
     "text": [
      "Please enter your own String : saiprasad\n",
      "Please enter your own Character : a\n",
      "Original String :   saiprasad\n",
      "Final String :      siprasad\n"
     ]
    }
   ],
   "source": [
    "# Python Program to Remove the First Occurrence of a Character in a String\n",
    " \n",
    "string = input(\"Please enter your own String : \")\n",
    "char = input(\"Please enter your own Character : \")\n",
    "string2 = ''\n",
    "\n",
    "length = len(string)\n",
    "\n",
    "for i in range(length):\n",
    "    if(string[i] == char):\n",
    "        string2 = string[0:i] + string[i + 1:length]\n",
    "        break\n",
    "\n",
    "print(\"Original String :  \", string)\n",
    "print(\"Final String :     \", string2)"
   ]
  },
  {
   "cell_type": "code",
   "execution_count": 2,
   "metadata": {},
   "outputs": [
    {
     "name": "stdout",
     "output_type": "stream",
     "text": [
      "Please enter your own String : saiprasad\n",
      "Please enter your own Character : a\n",
      "Original String :   saiprasad\n",
      "Final String :      saiprasd\n"
     ]
    }
   ],
   "source": [
    "#Python Program to Remove Last Occurrence of a Character in a String\n",
    " \n",
    "string = input(\"Please enter your own String : \")\n",
    "char = input(\"Please enter your own Character : \")\n",
    "\n",
    "string2 = ''\n",
    "length = len(string)\n",
    "\n",
    "for i in range(length):\n",
    "    if(string[i] == char):\n",
    "        string2 = string[0:i] + string[i + 1:length]\n",
    "\n",
    "print(\"Original String :  \", string)\n",
    "print(\"Final String :     \", string2)\n",
    "\n"
   ]
  },
  {
   "cell_type": "code",
   "execution_count": 6,
   "metadata": {},
   "outputs": [
    {
     "name": "stdout",
     "output_type": "stream",
     "text": [
      "Please enter your own String : sai\n",
      "\n",
      "The Original String =  sai\n",
      "The Reversed String =  ias\n"
     ]
    }
   ],
   "source": [
    "#revers the sting\n",
    "string = input(\"Please enter your own String : \")\n",
    "\n",
    "string2 = ''\n",
    "\n",
    "for i in string:\n",
    "    string2 = i + string2\n",
    "    \n",
    "print(\"\\nThe Original String = \", string)\n",
    "print(\"The Reversed String = \", string2)"
   ]
  },
  {
   "cell_type": "code",
   "execution_count": 7,
   "metadata": {},
   "outputs": [
    {
     "name": "stdout",
     "output_type": "stream",
     "text": [
      "Please enter your own String : sai\n",
      "3\n"
     ]
    }
   ],
   "source": [
    "#String Length\n",
    "\n",
    "string = input(\"Please enter your own String : \")\n",
    "\n",
    "length = len(string)\n",
    "print(length)\n"
   ]
  },
  {
   "cell_type": "code",
   "execution_count": 8,
   "metadata": {},
   "outputs": [],
   "source": [
    "#List"
   ]
  },
  {
   "cell_type": "code",
   "execution_count": 9,
   "metadata": {},
   "outputs": [
    {
     "name": "stdout",
     "output_type": "stream",
     "text": [
      "[1, 2, 3, 4, 4, 5, 6, 7]\n"
     ]
    }
   ],
   "source": [
    "#Add two Lists\n",
    "\n",
    "a = [1,2,3,4]\n",
    "b = [4,5,6,7]\n",
    "\n",
    "c = a+b\n",
    "print(c)"
   ]
  },
  {
   "cell_type": "code",
   "execution_count": 14,
   "metadata": {},
   "outputs": [
    {
     "name": "stdout",
     "output_type": "stream",
     "text": [
      "total is [5, 7, 9]\n"
     ]
    }
   ],
   "source": [
    "total = []\n",
    "\n",
    "for i in range(3):\n",
    "    total.append( a[i] + b[i])\n",
    "\n",
    "print(\"total is\",total)"
   ]
  },
  {
   "cell_type": "code",
   "execution_count": 15,
   "metadata": {},
   "outputs": [
    {
     "name": "stdout",
     "output_type": "stream",
     "text": [
      "[4, 5, 6]\n",
      "[0, 1, 2]\n",
      "[4, 6, 8]\n",
      "[1.0, 1.5, 2.0]\n",
      "[0, 1, 0]\n",
      "[4, 9, 16]\n"
     ]
    }
   ],
   "source": [
    "a = [2,3,4]\n",
    "b = [2,2,2]\n",
    "\n",
    "add = []\n",
    "sub = []\n",
    "mul = []\n",
    "div = []\n",
    "mod = []\n",
    "poe = []\n",
    "\n",
    "for i in range(3):\n",
    "    add.append(a[i] + b[i])\n",
    "    sub.append(a[i] - b[i])\n",
    "    mul.append(a[i] * b[i])\n",
    "    div.append(a[i] / b[i])\n",
    "    mod.append(a[i] % b[i])\n",
    "    poe.append(a[i] ** b[i])\n",
    "\n",
    "print(add)\n",
    "print(sub)\n",
    "print(mul)\n",
    "print(div)\n",
    "print(mod)\n",
    "print(poe)\n",
    "\n"
   ]
  },
  {
   "cell_type": "code",
   "execution_count": 1,
   "metadata": {},
   "outputs": [
    {
     "name": "stdout",
     "output_type": "stream",
     "text": [
      "Total Number of Even Numbers in this List =   2\n",
      "Total Number of Odd Numbers in this List =  2\n"
     ]
    }
   ],
   "source": [
    "# Python Program to Count Even and Odd Numbers in a List\n",
    "\n",
    "NumList = [2,4,7,9]\n",
    "Even_count = 0\n",
    "Odd_count = 0\n",
    "\n",
    "for j in range(4):\n",
    "    if(NumList[j] % 2 == 0):\n",
    "        Even_count = Even_count + 1\n",
    "    else:\n",
    "        Odd_count = Odd_count + 1\n",
    "\n",
    "print(\"Total Number of Even Numbers in this List =  \", Even_count)\n",
    "print(\"Total Number of Odd Numbers in this List = \", Odd_count)\n",
    "\n"
   ]
  },
  {
   "cell_type": "code",
   "execution_count": 2,
   "metadata": {},
   "outputs": [
    {
     "name": "stdout",
     "output_type": "stream",
     "text": [
      "[2, 3, 4, 2]\n"
     ]
    }
   ],
   "source": [
    "# Python Program to Print Positive Numbers in a List\n",
    "\n",
    "a = [2,3,4,-3,-3,2,-4]\n",
    "positive = []\n",
    "\n",
    "for j in range(7):\n",
    "    if(a[j] >= 0):\n",
    "        positive.append(a[j])\n",
    "        \n",
    "print(positive)        "
   ]
  },
  {
   "cell_type": "code",
   "execution_count": 3,
   "metadata": {},
   "outputs": [
    {
     "name": "stdout",
     "output_type": "stream",
     "text": [
      "[2, 4, 2]\n",
      "[3, -3, -3, 13]\n"
     ]
    }
   ],
   "source": [
    "#Put Even and odd Numbers in Separate List\n",
    "\n",
    "a = [2,3,4,-3,-3,2,13]\n",
    "even = []\n",
    "odd = []\n",
    "\n",
    "for j in range(7):\n",
    "    if(a[j] % 2 == 0):\n",
    "        even.append(a[j])\n",
    "    else:\n",
    "        odd.append(a[j])\n",
    "        \n",
    "print(even)        \n",
    "print(odd)"
   ]
  },
  {
   "cell_type": "code",
   "execution_count": 4,
   "metadata": {},
   "outputs": [
    {
     "name": "stdout",
     "output_type": "stream",
     "text": [
      "[13, 2, -3, -3, 4, 3, 2]\n"
     ]
    }
   ],
   "source": [
    "#Reverse List Items\n",
    "\n",
    "a = [2,3,4,-3,-3,2,13]\n",
    "\n",
    "a.reverse()\n",
    "print(a)"
   ]
  },
  {
   "cell_type": "code",
   "execution_count": 5,
   "metadata": {},
   "outputs": [
    {
     "name": "stdout",
     "output_type": "stream",
     "text": [
      "[-3, -3, 2, 2, 3, 4, 13, 22]\n",
      "[13]\n"
     ]
    }
   ],
   "source": [
    "a = [2,3,4,-3,-3,22,2,13]\n",
    "b = []\n",
    "\n",
    "a.sort()\n",
    "b.append(a[-2])\n",
    "\n",
    "print(a)\n",
    "print(b)"
   ]
  },
  {
   "cell_type": "code",
   "execution_count": null,
   "metadata": {},
   "outputs": [],
   "source": []
  }
 ],
 "metadata": {
  "kernelspec": {
   "display_name": "Python 3",
   "language": "python",
   "name": "python3"
  },
  "language_info": {
   "codemirror_mode": {
    "name": "ipython",
    "version": 3
   },
   "file_extension": ".py",
   "mimetype": "text/x-python",
   "name": "python",
   "nbconvert_exporter": "python",
   "pygments_lexer": "ipython3",
   "version": "3.6.10"
  }
 },
 "nbformat": 4,
 "nbformat_minor": 4
}
