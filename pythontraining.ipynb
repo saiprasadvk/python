{
 "cells": [
  {
   "cell_type": "code",
   "execution_count": 3,
   "metadata": {},
   "outputs": [
    {
     "name": "stdout",
     "output_type": "stream",
     "text": [
      "The Sorted List in Ascending Order :  [3, 5, 6, 8]\n"
     ]
    }
   ],
   "source": [
    "#Pattern\n",
    "#Bubble Sort \n",
    "\n",
    "# Python program for Bubble Sort\n",
    "\n",
    "a = [3,8,5,6]\n",
    "number = 4\n",
    "\n",
    "for i in range(number -1):\n",
    "    for j in range(number - i - 1):\n",
    "        if(a[j] > a[j + 1]):\n",
    "            temp = a[j]\n",
    "            a[j] = a[j + 1]\n",
    "            a[j + 1] = temp\n",
    "\n",
    "print(\"The Sorted List in Ascending Order : \", a)"
   ]
  },
  {
   "cell_type": "code",
   "execution_count": 11,
   "metadata": {},
   "outputs": [
    {
     "name": "stdout",
     "output_type": "stream",
     "text": [
      "Enter the number of row:5\n",
      "Enter the number of column6\n",
      "1 0 1 0 1 0 \n",
      "1 0 1 0 1 0 \n",
      "1 0 1 0 1 0 \n",
      "1 0 1 0 1 0 \n",
      "1 0 1 0 1 0 \n"
     ]
    }
   ],
   "source": [
    "#print 1 and 0 in alternative colums\n",
    "\n",
    "a = int(input(\"Enter the number of row:\"))\n",
    "b = int(input(\"Enter the number of column\"))\n",
    "\n",
    "for i in range(1,a+1):\n",
    "    for j in range(1,b+1):\n",
    "        if j % 2 == 0:\n",
    "            print(\"0\", end = \" \")\n",
    "        else:\n",
    "            print(\"1\",end = \" \")\n",
    "    print()        "
   ]
  },
  {
   "cell_type": "code",
   "execution_count": 13,
   "metadata": {},
   "outputs": [
    {
     "name": "stdout",
     "output_type": "stream",
     "text": [
      "Enter the number of row:3\n",
      "Enter the number of column9\n",
      "1  1  1  1  1  1  1  1  1  \n",
      "1                       1  \n",
      "1  1  1  1  1  1  1  1  1  \n"
     ]
    }
   ],
   "source": [
    "a = int(input(\"Enter the number of row:\"))\n",
    "b = int(input(\"Enter the number of column\"))\n",
    "\n",
    "for i in range(1,a+1):\n",
    "    for j in range(1,b+1):\n",
    "        if (i == 1 or i == a or j == 1 or j == b):\n",
    "            print('1',end = \"  \")\n",
    "        else:\n",
    "            print('  ',end = \" \")\n",
    "    print()       "
   ]
  },
  {
   "cell_type": "code",
   "execution_count": 15,
   "metadata": {},
   "outputs": [
    {
     "name": "stdout",
     "output_type": "stream",
     "text": [
      "Please Enter any Side of a Square  : 4\n",
      "Hollow Square Star Pattern\n",
      "*  *  *  *  \n",
      "*        *  \n",
      "*        *  \n",
      "*  *  *  *  \n"
     ]
    }
   ],
   "source": [
    "# Python Program to Print Hollow Square Star Pattern\n",
    "\n",
    "side = int(input(\"Please Enter any Side of a Square  : \"))\n",
    "\n",
    "print(\"Hollow Square Star Pattern\") \n",
    "for i in range(side):\n",
    "    for j in range(side):\n",
    "        if(i == 0 or i == 3 or j == 0 or j == 3):\n",
    "            print('*', end = '  ')\n",
    "        else:\n",
    "            print(' ', end = '  ')\n",
    "    print()\n",
    "    \n",
    "\"\"\"\n",
    "output::\n",
    "\n",
    "(0,0) (0,1) (0,2) (0,3)\n",
    "(1,0) (1,1) (1,2) (1,3)\n",
    "(2,0) (2,1) (2,2) (2,3)\n",
    "(3,0) (3,1) (3,2) (3,3)\n",
    "\n",
    "\"\"\"    "
   ]
  },
  {
   "cell_type": "code",
   "execution_count": 26,
   "metadata": {},
   "outputs": [
    {
     "name": "stdout",
     "output_type": "stream",
     "text": [
      "Please Enter the total Number of Rows  : 5\n",
      "Inverted Right Triangle Pattern of Numbers::\n",
      "*  *  *  *  *  \n",
      "*  *  *  *  \n",
      "*  *  *  \n",
      "*  *  \n",
      "*  \n",
      "\n"
     ]
    }
   ],
   "source": [
    "# Python Program to Print Inverted Right Triangle of Numbers\n",
    " \n",
    "rows = int(input(\"Please Enter the total Number of Rows  : \"))\n",
    "\n",
    "print(\"Inverted Right Triangle Pattern of Numbers::\") \n",
    "i = rows\n",
    "while(i >= 0):\n",
    "    for j in range(1, i + 1):      \n",
    "        print(\"*\", end = '  ')\n",
    "    i = i - 1\n",
    "    print()"
   ]
  },
  {
   "cell_type": "code",
   "execution_count": 33,
   "metadata": {},
   "outputs": [
    {
     "name": "stdout",
     "output_type": "stream",
     "text": [
      "Please Enter the total Number of Rows  : 4\n",
      "Right Triangle Pattern of Numbers::\n",
      "*  \n",
      "*  *  \n",
      "*  *  *  \n",
      "*  *  *  *  \n"
     ]
    }
   ],
   "source": [
    "rows = int(input(\"Please Enter the total Number of Rows  : \"))\n",
    "\n",
    "print(\"Right Triangle Pattern of Numbers::\") \n",
    "i = 1\n",
    "while(i <= rows):\n",
    "    for j in range(1, i+1):      \n",
    "        print(\"*\", end = '  ')\n",
    "    i = i + 1\n",
    "    print()"
   ]
  },
  {
   "cell_type": "code",
   "execution_count": 31,
   "metadata": {},
   "outputs": [
    {
     "name": "stdout",
     "output_type": "stream",
     "text": [
      "Please Enter the Total Number of Rows  : 5\n",
      "Mirrored Right Triangle Star Pattern\n",
      "            *  \n",
      "         *  *  \n",
      "      *  *  *  \n",
      "   *  *  *  *  \n",
      "*  *  *  *  *  \n"
     ]
    }
   ],
   "source": [
    "# Python Program to Print Mirrored Right Triangle Star Pattern\n",
    "\n",
    "\n",
    "rows = int(input(\"Please Enter the Total Number of Rows  : \"))\n",
    "\n",
    "print(\"Mirrored Right Triangle Star Pattern\")\n",
    "i = 1\n",
    "while(i <= rows):\n",
    "    j = 1\n",
    "    while(j <= rows):\n",
    "        if(j <= rows - i):\n",
    "            print(' ', end = '  ')\n",
    "        else:\n",
    "            print('*', end = '  ')\n",
    "        j = j + 1\n",
    "    i = i + 1\n",
    "    print()"
   ]
  },
  {
   "cell_type": "code",
   "execution_count": 1,
   "metadata": {},
   "outputs": [],
   "source": [
    "#Dictionary"
   ]
  },
  {
   "cell_type": "code",
   "execution_count": 11,
   "metadata": {},
   "outputs": [
    {
     "name": "stdout",
     "output_type": "stream",
     "text": [
      "Enter the word : apple\n",
      "Enter the key :a\n",
      "Add a key-pair using update :  {'a': 'apple'}\n",
      "Add a key-pair :  {'a': 'apple'}\n"
     ]
    }
   ],
   "source": [
    "#Add Key-Value Pair to a Dictionary\n",
    "a = input(\"Enter the word : \")\n",
    "b = input(\"Enter the key :\")\n",
    "\n",
    "c = {}\n",
    "\n",
    "c.update({b:a})\n",
    "\n",
    "print(\"Add a key-pair using update : \",c)\n",
    "\n",
    "d = {}\n",
    "\n",
    "d[b] = a\n",
    "\n",
    "print(\"Add a key-pair : \",d)"
   ]
  },
  {
   "cell_type": "code",
   "execution_count": 39,
   "metadata": {},
   "outputs": [
    {
     "name": "stdout",
     "output_type": "stream",
     "text": [
      "Dictionary :  {'a': 'apple', 'b': 'Banana', 'o': 'Orange', 'm': 'Mango'}\n",
      "Please enter the Key you want to search for: Orange\n",
      "\n",
      "Values Exists in this Dictionary\n"
     ]
    }
   ],
   "source": [
    "# Python Program to check if a Given key exists in a Dictionary\n",
    "\n",
    "myDict = {'a': 'apple', 'b': 'Banana' , 'o': 'Orange', 'm': 'Mango'}\n",
    "print(\"Dictionary : \", myDict)\n",
    "\n",
    "value = input(\"Please enter the Key you want to search for: \")\n",
    "\n",
    "# Check Whether the Given key exists in a Dictionary or Not\n",
    "if value in myDict.values():\n",
    "    print(\"\\nValues Exists in this Dictionary\")\n",
    "    #print(\"Value = \", value, \" and key = \", myDict.update{key})\n",
    "else:\n",
    "    print(\"\\nvalue Does not Exists in this Dictionary\")"
   ]
  },
  {
   "cell_type": "code",
   "execution_count": 40,
   "metadata": {},
   "outputs": [
    {
     "name": "stdout",
     "output_type": "stream",
     "text": [
      "Please enter any String : Power of positive of mind is the positive of power     \n",
      "Dictionary Items  :   {'Power': 1, 'of': 3, 'positive': 2, 'mind': 1, 'is': 1, 'the': 1, 'power': 1}\n"
     ]
    }
   ],
   "source": [
    "# Python Program to Count words in a String using Dictionary\n",
    "\n",
    "string = input(\"Please enter any String : \")\n",
    "words = []\n",
    "\n",
    "words = string.split() # or string.lower().split()\n",
    "myDict = {}\n",
    "for key in words:\n",
    "    myDict[key] = words.count(key)\n",
    "\n",
    "print(\"Dictionary Items  :  \",  myDict)"
   ]
  },
  {
   "cell_type": "code",
   "execution_count": 44,
   "metadata": {},
   "outputs": [
    {
     "name": "stdout",
     "output_type": "stream",
     "text": [
      "Enter the number: 6\n",
      "{1: 1, 2: 4, 3: 9, 4: 16, 5: 25, 6: 36}\n"
     ]
    }
   ],
   "source": [
    "#Create Dictionary of keys from 1 to n and values are square of keys\n",
    "a = int(input(\"Enter the number: \"))\n",
    "\n",
    "b = {}\n",
    "\n",
    "for x in range(1,a+1):\n",
    "    b[x] = x**2\n",
    "\n",
    "print(b)    "
   ]
  },
  {
   "cell_type": "code",
   "execution_count": 30,
   "metadata": {},
   "outputs": [
    {
     "name": "stdout",
     "output_type": "stream",
     "text": [
      "Enter the number :230\n",
      "3\n",
      "35\n",
      "Given number is not a armstrong\n"
     ]
    }
   ],
   "source": [
    "#Armstrong\n",
    "\n",
    "a = int(input(\"Enter the number :\"))\n",
    "count = 0\n",
    "sums = 0\n",
    "\n",
    "#Count the digtis\n",
    "temp = a\n",
    "while temp > 0:\n",
    "    count = count + 1\n",
    "    temp = temp // 10\n",
    "    \n",
    "print(count)\n",
    "\n",
    "#number into individual digits \n",
    "temp = a\n",
    "\n",
    "while temp > 0:\n",
    "    reminder = temp % 10\n",
    "    sums = sums + reminder**count\n",
    "    temp = temp // 10\n",
    "    \n",
    "print(sums)\n",
    "\n",
    "#Cheking the sums equal or not with given number\n",
    "\n",
    "if (sums == a):\n",
    "    print(\"Given number is armstrong\")\n",
    "else:\n",
    "    print(\"Given number is not a armstrong\")"
   ]
  },
  {
   "cell_type": "code",
   "execution_count": 4,
   "metadata": {},
   "outputs": [
    {
     "name": "stdout",
     "output_type": "stream",
     "text": [
      "Enter the number :4\n",
      "0\n",
      "1\n",
      "1\n",
      "2\n"
     ]
    }
   ],
   "source": [
    "#Fibonacci series,Adding two previous number\n",
    "\n",
    "number = int(input(\"Enter the number :\"))\n",
    "\n",
    "i = 0\n",
    "first = 0\n",
    "second = 1\n",
    "\n",
    "while(i < number):\n",
    "    if i <= 1:\n",
    "        Next = i\n",
    "    else:\n",
    "        Next = first + second\n",
    "        first = second\n",
    "        second = Next\n",
    "    i = i + 1\n",
    "    print(Next)"
   ]
  },
  {
   "cell_type": "code",
   "execution_count": 1,
   "metadata": {},
   "outputs": [
    {
     "name": "stdout",
     "output_type": "stream",
     "text": [
      "Enter the number :3\n",
      "Factors of a Given Number 3 are:\n",
      "1\n",
      "3\n"
     ]
    }
   ],
   "source": [
    "## Python Program to find Factors of a Number\n",
    "\n",
    "\n",
    "num = int(input(\"Enter the number :\"))\n",
    "\n",
    "value = 1\n",
    "print(\"Factors of a Given Number {0} are:\".format(num))\n",
    "\n",
    "while(value <= num):\n",
    "    if(num % value == 0):\n",
    "        print(value)\n",
    "    value = value + 1"
   ]
  },
  {
   "cell_type": "code",
   "execution_count": 2,
   "metadata": {},
   "outputs": [
    {
     "name": "stdout",
     "output_type": "stream",
     "text": [
      "720\n"
     ]
    }
   ],
   "source": [
    "#Factorial of a Number\n",
    "\n",
    "import math\n",
    "\n",
    "a = 6\n",
    "\n",
    "fact = math.factorial(a)\n",
    "print(fact)"
   ]
  },
  {
   "cell_type": "code",
   "execution_count": 3,
   "metadata": {},
   "outputs": [
    {
     "name": "stdout",
     "output_type": "stream",
     "text": [
      "24\n"
     ]
    }
   ],
   "source": [
    "a = 4\n",
    "fact = 1\n",
    "i = 1\n",
    "\n",
    "while i <= a:\n",
    "    fact = fact * i\n",
    "    i = i + 1\n",
    "\n",
    "print(fact)    "
   ]
  },
  {
   "cell_type": "code",
   "execution_count": 10,
   "metadata": {},
   "outputs": [
    {
     "name": "stdout",
     "output_type": "stream",
     "text": [
      "Please Enter any Number: 5\n",
      "The First Digit from a Given Number 5 = 5\n"
     ]
    }
   ],
   "source": [
    "# Python Program to find First Digit of a Number\n",
    "\n",
    "number = int(input(\"Please Enter any Number: \"))\n",
    "\n",
    "first_digit = number\n",
    "\n",
    "while (first_digit >= 10):\n",
    "    first_digit = first_digit // 10\n",
    "\n",
    "print(\"The First Digit from a Given Number {0} = {1}\".format(number, first_digit))"
   ]
  },
  {
   "cell_type": "code",
   "execution_count": 20,
   "metadata": {},
   "outputs": [
    {
     "name": "stdout",
     "output_type": "stream",
     "text": [
      "Enter the number :345\n",
      "3.0\n"
     ]
    }
   ],
   "source": [
    "import math\n",
    "\n",
    "number = int(input(\"Enter the number :\"))\n",
    "\n",
    "\n",
    "count = int(math.log10(number))\n",
    "\n",
    "count1 = math.pow(10,count)\n",
    "\n",
    "firstdigit = number // count1\n",
    "\n",
    "print(firstdigit)\n"
   ]
  },
  {
   "cell_type": "code",
   "execution_count": 24,
   "metadata": {},
   "outputs": [
    {
     "name": "stdout",
     "output_type": "stream",
     "text": [
      "Please Enter any Number: 34567\n",
      "The First Digit from a Given Number 34567 = 7\n"
     ]
    }
   ],
   "source": [
    "#Last Digit in a Number\n",
    "\n",
    "number = int(input(\"Please Enter any Number: \"))\n",
    "\n",
    "last_digit = number\n",
    "\n",
    "while (last_digit >= 10):\n",
    "    last_digit = last_digit % 10\n",
    "    break\n",
    "\n",
    "print(\"The First Digit from a Given Number {0} = {1}\".format(number, last_digit))"
   ]
  },
  {
   "cell_type": "code",
   "execution_count": 30,
   "metadata": {},
   "outputs": [
    {
     "name": "stdout",
     "output_type": "stream",
     "text": [
      "Enter the first number :4\n",
      "Enter the second number :8\n",
      "4\n"
     ]
    }
   ],
   "source": [
    "#Last Digit in a Number\n",
    "\n",
    "a = int(input(\"Enter the first number :\"))\n",
    "b = int(input(\"Enter the second number :\"))\n",
    "\n",
    "i = 1\n",
    "while( i <= a and i <= b):\n",
    "    if(a % i == 0 and b % i == 0):\n",
    "        gcd = i\n",
    "    i = i + 1\n",
    "    \n",
    "print(gcd)    \n",
    "\n",
    "\n"
   ]
  },
  {
   "cell_type": "code",
   "execution_count": 31,
   "metadata": {},
   "outputs": [
    {
     "name": "stdout",
     "output_type": "stream",
     "text": [
      " Please Enter the First Value a: 3\n",
      " Please Enter the Second Value b: 4\n",
      "\n",
      " LCM of 3.0 and 4.0 = 12.0\n"
     ]
    }
   ],
   "source": [
    "# Python Program to find LCM of Two Numbers\n",
    "\n",
    "a = float(input(\" Please Enter the First Value a: \"))\n",
    "b = float(input(\" Please Enter the Second Value b: \"))\n",
    "\n",
    "if(a > b):\n",
    "    maximum = a\n",
    "else:\n",
    "    maximum = b\n",
    "\n",
    "while(True):\n",
    "    if(maximum % a == 0 and maximum % b == 0):\n",
    "        print(\"\\n LCM of {0} and {1} = {2}\".format(a, b, maximum))\n",
    "        break;\n",
    "    maximum = maximum + 1"
   ]
  },
  {
   "cell_type": "code",
   "execution_count": 40,
   "metadata": {},
   "outputs": [
    {
     "name": "stdout",
     "output_type": "stream",
     "text": [
      "Please Enter any Number: 5\n",
      "5  4  3  2  1  "
     ]
    }
   ],
   "source": [
    "# Python Program to Print Natural Numbers in Reverse Order\n",
    " \n",
    "number = int(input(\"Please Enter any Number: \"))\n",
    "i = number\n",
    "\n",
    "while ( i >= 1):\n",
    "    print (i, end = '  ')\n",
    "    i = i - 1"
   ]
  },
  {
   "cell_type": "code",
   "execution_count": 54,
   "metadata": {},
   "outputs": [
    {
     "name": "stdout",
     "output_type": "stream",
     "text": [
      "Please enter the Maximum number : 8\n",
      "Please enter the Minimum number : 5\n",
      "243\n",
      "Not a Palindrome\n"
     ]
    }
   ],
   "source": [
    "#Finding palindrome\n",
    "number = int(input(\"Please enter the number : \"))\n",
    "\n",
    "reverse = 0\n",
    "temp = number\n",
    "\n",
    "while(temp > 0):\n",
    "    Reminder = temp % 10\n",
    "    reverse = (reverse * 10) + Reminder\n",
    "    temp = temp //10    \n",
    "print(reverse)\n",
    "\n",
    "if(number == reverse):\n",
    "    print(\"The given number is Palindrome\")\n",
    "else:\n",
    "    print(\"Not a Palindrome\")"
   ]
  },
  {
   "cell_type": "code",
   "execution_count": 65,
   "metadata": {},
   "outputs": [
    {
     "name": "stdout",
     "output_type": "stream",
     "text": [
      "Please enter the number : 56\n",
      "1 2 3 4 5 6 7 8 9 11 22 33 44 55 "
     ]
    }
   ],
   "source": [
    "#Finding palindrome\n",
    "Max = int(input(\"Please enter the number : \"))\n",
    "\n",
    "reverse = 0\n",
    "temp = number\n",
    "for number in range(1,Max+1):\n",
    "    reverse = 0\n",
    "    temp = number \n",
    "    \n",
    "    while(temp > 0):\n",
    "        Reminder = temp % 10\n",
    "        reverse = (reverse * 10) + Reminder\n",
    "        temp = temp // 10    \n",
    "        \n",
    "    if(number == reverse):\n",
    "        print(number, end = \" \")\n"
   ]
  },
  {
   "cell_type": "code",
   "execution_count": 89,
   "metadata": {},
   "outputs": [
    {
     "name": "stdout",
     "output_type": "stream",
     "text": [
      " Please Enter any Number: 6\n",
      "1\n",
      "2\n",
      "3\n",
      "4\n",
      "5\n",
      " 6 is a Perfect Number\n"
     ]
    }
   ],
   "source": [
    "# Python Program to find Perfect Number using For loop\n",
    "\n",
    "Number = int(input(\" Please Enter any Number: \"))   #5\n",
    "Sum = 0\n",
    "for i in range(1, Number):   #5\n",
    "    print(i)\n",
    "    if(Number % i == 0):\n",
    "        Sum = Sum + i\n",
    "if (Sum == Number):\n",
    "    print(\" %d is a Perfect Number\" %Number)\n",
    "else:\n",
    "    print(\" %d is not a Perfect Number\" %Number)"
   ]
  },
  {
   "cell_type": "code",
   "execution_count": 104,
   "metadata": {},
   "outputs": [
    {
     "name": "stdout",
     "output_type": "stream",
     "text": [
      " Please Enter any Number: 8\n",
      "2\n",
      " 8 is not a Prime Number\n"
     ]
    }
   ],
   "source": [
    "# Python Program to find Prime Number\n",
    " \n",
    "Number = int(input(\" Please Enter any Number: \"))\n",
    "count = 0\n",
    "\n",
    "for i in range(2, (Number//2 + 1)): #2,3,4\n",
    "    print(i)\n",
    "    if(Number % i == 0):\n",
    "        count = count + 1\n",
    "        break        \n",
    "        \n",
    "#print(count)   \n",
    "\n",
    "if (count == 0 and Number != 1):\n",
    "    print(\" %d is a Prime Number\" %Number)\n",
    "else:\n",
    "    print(\" %d is not a Prime Number\" %Number)"
   ]
  },
  {
   "cell_type": "code",
   "execution_count": null,
   "metadata": {},
   "outputs": [],
   "source": []
  }
 ],
 "metadata": {
  "kernelspec": {
   "display_name": "Python 3",
   "language": "python",
   "name": "python3"
  },
  "language_info": {
   "codemirror_mode": {
    "name": "ipython",
    "version": 3
   },
   "file_extension": ".py",
   "mimetype": "text/x-python",
   "name": "python",
   "nbconvert_exporter": "python",
   "pygments_lexer": "ipython3",
   "version": "3.6.10"
  }
 },
 "nbformat": 4,
 "nbformat_minor": 4
}
