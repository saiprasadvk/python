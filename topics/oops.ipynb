{
 "cells": [
  {
   "cell_type": "code",
   "execution_count": 11,
   "metadata": {},
   "outputs": [
    {
     "name": "stdout",
     "output_type": "stream",
     "text": [
      "John\n",
      "40\n",
      "Trying to access variables from outside the class\n",
      "John\n",
      "object has no attribute1\n"
     ]
    }
   ],
   "source": [
    "class Error(Exception):\n",
    "    \"\"\"Message to be shown here\"\"\"\n",
    "    pass\n",
    "\n",
    "class Noattribute(Error):\n",
    "    \"\"\"object has no attribute\"\"\"\n",
    "    pass\n",
    "\n",
    "class Person:\n",
    "    def __init__(self, name, age=0):\n",
    "        self.name = name\n",
    "        self.__age = age\n",
    "\n",
    "    def display(self):\n",
    "        print(self.name)\n",
    "        print(self.__age)\n",
    "try:\n",
    "    try:\n",
    "        #Employee Object\n",
    "        person = Person('John', 40)\n",
    "        person.display()\n",
    "        print('Trying to access variables from outside the class')\n",
    "        print(person.name)\n",
    "        print(person.__age)\n",
    "    \n",
    "    except (AttributeError):\n",
    "        raise Noattribute \n",
    "\n",
    "except (Noattribute):\n",
    "    print(\"object has no attribute1\")"
   ]
  },
  {
   "cell_type": "code",
   "execution_count": null,
   "metadata": {},
   "outputs": [],
   "source": []
  }
 ],
 "metadata": {
  "kernelspec": {
   "display_name": "Python 3",
   "language": "python",
   "name": "python3"
  },
  "language_info": {
   "codemirror_mode": {
    "name": "ipython",
    "version": 3
   },
   "file_extension": ".py",
   "mimetype": "text/x-python",
   "name": "python",
   "nbconvert_exporter": "python",
   "pygments_lexer": "ipython3",
   "version": "3.6.10"
  }
 },
 "nbformat": 4,
 "nbformat_minor": 4
}
