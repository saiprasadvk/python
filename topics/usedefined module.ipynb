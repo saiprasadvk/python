{
 "cells": [
  {
   "cell_type": "code",
   "execution_count": 20,
   "metadata": {},
   "outputs": [
    {
     "name": "stdout",
     "output_type": "stream",
     "text": [
      "Hello, World!\n",
      "Sammmy\n",
      "This octopus is orange.\n",
      "Jesse is the octopus's name.\n"
     ]
    }
   ],
   "source": [
    "import myclass_module\n",
    "\n",
    "myclass_module.world()\n",
    "\n",
    "print(myclass_module.shark)\n",
    "\n",
    "# Call class\n",
    "jesse = myclass_module.Octopus(\"Jesse\", \"orange\")\n",
    "jesse.about_the_octopus()"
   ]
  },
  {
   "cell_type": "code",
   "execution_count": 3,
   "metadata": {},
   "outputs": [
    {
     "name": "stdout",
     "output_type": "stream",
     "text": [
      "Good Morning\n",
      "Value of implicit variable __name__ is:  myfile\n",
      "GoodEvening\n",
      "Hello World\n"
     ]
    }
   ],
   "source": [
    "import myfile\n",
    "\n",
    "print(\"Hello World\")"
   ]
  },
  {
   "cell_type": "code",
   "execution_count": 1,
   "metadata": {},
   "outputs": [
    {
     "name": "stdout",
     "output_type": "stream",
     "text": [
      "In newMain\n",
      "Hello World\n"
     ]
    }
   ],
   "source": [
    "import mynewmodule\n",
    "\n",
    "print(\"Hello World\")"
   ]
  },
  {
   "cell_type": "code",
   "execution_count": null,
   "metadata": {},
   "outputs": [],
   "source": []
  }
 ],
 "metadata": {
  "kernelspec": {
   "display_name": "Python 3",
   "language": "python",
   "name": "python3"
  },
  "language_info": {
   "codemirror_mode": {
    "name": "ipython",
    "version": 3
   },
   "file_extension": ".py",
   "mimetype": "text/x-python",
   "name": "python",
   "nbconvert_exporter": "python",
   "pygments_lexer": "ipython3",
   "version": "3.6.10"
  }
 },
 "nbformat": 4,
 "nbformat_minor": 4
}
