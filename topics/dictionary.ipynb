{
 "cells": [
  {
   "cell_type": "markdown",
   "metadata": {},
   "source": [
    "# Dictionary"
   ]
  },
  {
   "cell_type": "code",
   "execution_count": 1,
   "metadata": {},
   "outputs": [],
   "source": [
    "a = {'team': 'India','rank': 1,'color': 'Blue','captain': 'Kholi',}"
   ]
  },
  {
   "cell_type": "code",
   "execution_count": 4,
   "metadata": {},
   "outputs": [
    {
     "name": "stdout",
     "output_type": "stream",
     "text": [
      "{'team': 'India', 'rank': 1, 'color': 'Blue', 'captain': 'Kholi'}\n",
      "<class 'dict'>\n"
     ]
    }
   ],
   "source": [
    "print(a)\n",
    "print(type(a))"
   ]
  },
  {
   "cell_type": "code",
   "execution_count": 8,
   "metadata": {},
   "outputs": [
    {
     "name": "stdout",
     "output_type": "stream",
     "text": [
      "India\n"
     ]
    }
   ],
   "source": [
    "print(a['team'])"
   ]
  },
  {
   "cell_type": "code",
   "execution_count": 12,
   "metadata": {},
   "outputs": [
    {
     "name": "stdout",
     "output_type": "stream",
     "text": [
      "{'team': 'India', 'rank': 1, 'color': 'Blue', 'captain': 'Kholi', 'board': 'BCCI'}\n"
     ]
    }
   ],
   "source": [
    "#Add the values and key\n",
    "\n",
    "a[\"board\"] = \"BCCI\"\n",
    "\n",
    "print(a)"
   ]
  },
  {
   "cell_type": "code",
   "execution_count": 40,
   "metadata": {},
   "outputs": [
    {
     "name": "stdout",
     "output_type": "stream",
     "text": [
      "team\n",
      "rank\n",
      "color\n",
      "captain\n",
      "\n",
      "Another Format: \n",
      "\n",
      "team rank color captain "
     ]
    }
   ],
   "source": [
    "#List keys   \n",
    "\n",
    "for i in a.keys():\n",
    "    print(i)\n",
    "\n",
    "print(\"\\nAnother Format: \\n\")\n",
    "\n",
    "for i in a:\n",
    "    print(i, end = \" \")    "
   ]
  },
  {
   "cell_type": "code",
   "execution_count": 42,
   "metadata": {},
   "outputs": [
    {
     "name": "stdout",
     "output_type": "stream",
     "text": [
      "India\n",
      "1\n",
      "Blue\n",
      "Kholi\n",
      "\n",
      "Another Format: \n",
      "\n",
      "India 1 Blue Kholi "
     ]
    }
   ],
   "source": [
    "#List values\n",
    "\n",
    "for i in a.values():\n",
    "    print(i)\n",
    "    \n",
    "print(\"\\nAnother Format: \\n\")\n",
    "\n",
    "\n",
    "for i in a:\n",
    "    print(a[i],end = \" \")"
   ]
  },
  {
   "cell_type": "code",
   "execution_count": 43,
   "metadata": {},
   "outputs": [
    {
     "name": "stdout",
     "output_type": "stream",
     "text": [
      "('team', 'India')\n",
      "('rank', 1)\n",
      "('color', 'Blue')\n",
      "('captain', 'Kholi')\n"
     ]
    }
   ],
   "source": [
    "#List Items\n",
    "\n",
    "for i in a.items():\n",
    "    print(i)"
   ]
  },
  {
   "cell_type": "code",
   "execution_count": 58,
   "metadata": {},
   "outputs": [
    {
     "name": "stdout",
     "output_type": "stream",
     "text": [
      "No , key is not is present\n"
     ]
    }
   ],
   "source": [
    "if \"key\" in a:\n",
    "    print(\"yes , key is present\")\n",
    "    \n",
    "else:\n",
    "    print(\"No , key is not is present\")"
   ]
  },
  {
   "cell_type": "code",
   "execution_count": 63,
   "metadata": {},
   "outputs": [
    {
     "name": "stdout",
     "output_type": "stream",
     "text": [
      "yes , Value is present\n"
     ]
    }
   ],
   "source": [
    "for i in a:\n",
    "    if \"India\" == a[i]:\n",
    "        print(\"yes , Value is present\")\n",
    "        break\n",
    "    else:\n",
    "        print(\"No , value is not is present\")\n",
    "        "
   ]
  },
  {
   "cell_type": "code",
   "execution_count": null,
   "metadata": {},
   "outputs": [],
   "source": []
  }
 ],
 "metadata": {
  "kernelspec": {
   "display_name": "Python 3",
   "language": "python",
   "name": "python3"
  },
  "language_info": {
   "codemirror_mode": {
    "name": "ipython",
    "version": 3
   },
   "file_extension": ".py",
   "mimetype": "text/x-python",
   "name": "python",
   "nbconvert_exporter": "python",
   "pygments_lexer": "ipython3",
   "version": "3.6.10"
  }
 },
 "nbformat": 4,
 "nbformat_minor": 4
}
