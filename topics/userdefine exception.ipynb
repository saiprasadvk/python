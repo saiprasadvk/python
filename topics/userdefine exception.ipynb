{
 "cells": [
  {
   "cell_type": "code",
   "execution_count": 6,
   "metadata": {},
   "outputs": [
    {
     "name": "stdout",
     "output_type": "stream",
     "text": [
      "Enter a number: 34\n",
      "This value is too large, try again!\n",
      "\n",
      "Congratulations! You guessed it correctly.\n"
     ]
    }
   ],
   "source": [
    "# define Python user-defined exceptions\n",
    "class Error(Exception):\n",
    "    \"\"\"Base class for other exceptions\"\"\"\n",
    "    pass\n",
    "\n",
    "class ValueTooSmallError(Error):\n",
    "    \"\"\"Raised when the input value is too small\"\"\"\n",
    "    pass\n",
    "\n",
    "class ValueTooLargeError(Error):\n",
    "    \"\"\"Raised when the input value is too large\"\"\"\n",
    "    pass\n",
    "\n",
    "# you need to guess this number\n",
    "number = 10\n",
    "\n",
    "try:\n",
    "    i_num = int(input(\"Enter a number: \"))\n",
    "    if i_num < number:\n",
    "        raise ValueTooSmallError\n",
    "    elif i_num > number:\n",
    "        raise ValueTooLargeError\n",
    "    \n",
    "except ValueTooSmallError:\n",
    "    print(\"This value is too small, try again!\")\n",
    "    print()\n",
    "except ValueTooLargeError:\n",
    "    print(\"This value is too large, try again!\")\n",
    "    print()\n",
    "\n",
    "print(\"Congratulations! You guessed it correctly.\")"
   ]
  },
  {
   "cell_type": "code",
   "execution_count": null,
   "metadata": {},
   "outputs": [],
   "source": [
    "# user guesses a number until he/she gets it right\n",
    "while True:\n",
    "    try:\n",
    "        i_num = int(input(\"Enter a number: \"))\n",
    "        if i_num < number:\n",
    "            raise ValueTooSmallError\n",
    "        elif i_num > number:\n",
    "            raise ValueTooLargeError\n",
    "        break\n",
    "    except ValueTooSmallError:\n",
    "        print(\"This value is too small, try again!\")\n",
    "        print()\n",
    "    except ValueTooLargeError:\n",
    "        print(\"This value is too large, try again!\")\n",
    "        print()\n",
    "\n",
    "print(\"Congratulations! You guessed it correctly.\")"
   ]
  },
  {
   "cell_type": "code",
   "execution_count": 8,
   "metadata": {},
   "outputs": [
    {
     "name": "stdout",
     "output_type": "stream",
     "text": [
      "Enter salary amount: 44567\n",
      "In Range\n"
     ]
    }
   ],
   "source": [
    "class SalaryNotInRangeError(Exception):\n",
    "    def __init__(self, salary, message=\"Salary is not in (5000, 15000) range\"):\n",
    "        self.salary = salary\n",
    "        self.message = message\n",
    "        super().__init__(self.message)\n",
    "\n",
    "try:\n",
    "    salary = int(input(\"Enter salary amount: \"))\n",
    "    if not 5000 < salary < 15000:\n",
    "        print(\"In Range\")\n",
    "        \n",
    "except SalaryNotInRangeError:\n",
    "    print(\"Not in range\")"
   ]
  },
  {
   "cell_type": "code",
   "execution_count": 1,
   "metadata": {},
   "outputs": [
    {
     "name": "stdout",
     "output_type": "stream",
     "text": [
      "John\n",
      "40\n",
      "Trying to access variables from outside the class\n",
      "John\n",
      "object has no attribute1\n"
     ]
    }
   ],
   "source": [
    "class Error(Exception):\n",
    "    \"\"\"Message to be shown here\"\"\"\n",
    "    pass\n",
    "\n",
    "class Noattribute(Error):\n",
    "    \"\"\"object has no attribute\"\"\"\n",
    "    pass\n",
    "\n",
    "class Person:\n",
    "    def __init__(self, name, age=0):\n",
    "        self.name = name\n",
    "        self.__age = age\n",
    "\n",
    "    def display(self):\n",
    "        print(self.name)\n",
    "        print(self.__age)\n",
    "try:\n",
    "    try:\n",
    "        #Employee Object\n",
    "        person = Person('John', 40)\n",
    "        person.display()\n",
    "        print('Trying to access variables from outside the class')\n",
    "        print(person.name)\n",
    "        print(person.__age)\n",
    "    \n",
    "    except (AttributeError):\n",
    "        raise Noattribute \n",
    "\n",
    "except (Noattribute):\n",
    "    print(\"object has no attribute1\")"
   ]
  },
  {
   "cell_type": "code",
   "execution_count": null,
   "metadata": {},
   "outputs": [],
   "source": []
  }
 ],
 "metadata": {
  "kernelspec": {
   "display_name": "Python 3",
   "language": "python",
   "name": "python3"
  },
  "language_info": {
   "codemirror_mode": {
    "name": "ipython",
    "version": 3
   },
   "file_extension": ".py",
   "mimetype": "text/x-python",
   "name": "python",
   "nbconvert_exporter": "python",
   "pygments_lexer": "ipython3",
   "version": "3.6.10"
  }
 },
 "nbformat": 4,
 "nbformat_minor": 4
}
