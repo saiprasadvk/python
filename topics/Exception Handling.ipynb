{
 "cells": [
  {
   "cell_type": "markdown",
   "metadata": {},
   "source": [
    "### Exception Handling"
   ]
  },
  {
   "cell_type": "code",
   "execution_count": 2,
   "metadata": {},
   "outputs": [
    {
     "name": "stdout",
     "output_type": "stream",
     "text": [
      "34\n",
      "e\n",
      "Sorry only numbers please\n"
     ]
    }
   ],
   "source": [
    "# we will write a piece code which we think because of user input may crash\n",
    "\n",
    "try :                             \n",
    "    a = int(input())\n",
    "    b = int(input())\n",
    "    c = a+b\n",
    "    print(c)\n",
    "    \n",
    "except ValueError:\n",
    "    print(\"Sorry only numbers please\")"
   ]
  },
  {
   "cell_type": "code",
   "execution_count": 3,
   "metadata": {},
   "outputs": [
    {
     "name": "stdout",
     "output_type": "stream",
     "text": [
      "45\n",
      "0\n",
      "Sorry cannot divide by zero , please check input\n"
     ]
    }
   ],
   "source": [
    "try:\n",
    "    a = int(input())\n",
    "    b = int(input())\n",
    "    c = a/b\n",
    "    print(c)\n",
    "    \n",
    "except ValueError:\n",
    "    print(\"Please only numbers please\")\n",
    "    \n",
    "except ZeroDivisionError:\n",
    "    print(\"Sorry cannot divide by zero , please check input\")"
   ]
  },
  {
   "cell_type": "code",
   "execution_count": 4,
   "metadata": {},
   "outputs": [
    {
     "name": "stdout",
     "output_type": "stream",
     "text": [
      "1\n",
      "4\n",
      "5\n",
      "6\n",
      "7\n",
      "list is out of the range,Please check the for loop once again\n"
     ]
    }
   ],
   "source": [
    "a = [1,4,5,6,7]\n",
    "\n",
    "try:\n",
    "    for i in range(0,6):\n",
    "        print(a[i])\n",
    "        \n",
    "except IndexError:\n",
    "    print(\"list is out of the range,Please check the for loop once again\")"
   ]
  },
  {
   "cell_type": "code",
   "execution_count": 23,
   "metadata": {},
   "outputs": [
    {
     "name": "stdout",
     "output_type": "stream",
     "text": [
      "23\n",
      "43\n",
      "66\n",
      "I will excute only if try block is executed\n"
     ]
    }
   ],
   "source": [
    "try :                             # we will write a piece code which we think because of user input may crash\n",
    "    a = int(input())\n",
    "    b = int(input())\n",
    "    c = a+b\n",
    "    print(c)\n",
    "    \n",
    "    \n",
    "except ValueError:\n",
    "    print(\"please only numbers please and \")\n",
    "    \n",
    "else:\n",
    "    print(\"I will excute only if try block is executed\")"
   ]
  },
  {
   "cell_type": "code",
   "execution_count": 24,
   "metadata": {},
   "outputs": [
    {
     "name": "stdout",
     "output_type": "stream",
     "text": [
      "sd\n",
      "invalid literal for int() with base 10: 'sd'\n"
     ]
    }
   ],
   "source": [
    "try :  \n",
    "    a = int(input())\n",
    "    b = int(input())\n",
    "    c = a+b\n",
    "    print(c)\n",
    "    \n",
    "except ValueError as ve:\n",
    "    print(ve)"
   ]
  },
  {
   "cell_type": "code",
   "execution_count": 28,
   "metadata": {},
   "outputs": [
    {
     "name": "stdout",
     "output_type": "stream",
     "text": [
      "e\n",
      "invalid literal for int() with base 10: 'e'\n",
      "I will always run irrespective of try , except , else block\n"
     ]
    }
   ],
   "source": [
    "try:\n",
    "    a = int(input())\n",
    "    b = int(input())\n",
    "    c = a+b\n",
    "    print(c)\n",
    "    \n",
    "    \n",
    "except ValueError as vow:\n",
    "    print(vow)\n",
    "    \n",
    "else:\n",
    "    print(\"I will excute only if try block is executed\")\n",
    "    \n",
    "finally:\n",
    "    print(\"I will always run irrespective of try , except , else block\")"
   ]
  },
  {
   "cell_type": "code",
   "execution_count": 34,
   "metadata": {},
   "outputs": [
    {
     "name": "stdout",
     "output_type": "stream",
     "text": [
      "Enter the age : 34\n",
      "you can apply\n"
     ]
    }
   ],
   "source": [
    "try:\n",
    "    age = int(input(\"Enter the age : \"))\n",
    "    if age>=60:\n",
    "        raise Exception(\"Sorry you cannot apply\")\n",
    "    else:\n",
    "        print(\"you can apply\")\n",
    "        \n",
    "except Exception as e:\n",
    "    print(e)"
   ]
  },
  {
   "cell_type": "code",
   "execution_count": 46,
   "metadata": {},
   "outputs": [
    {
     "name": "stdout",
     "output_type": "stream",
     "text": [
      "t\n",
      "invalid literal for int() with base 10: 't'\n"
     ]
    }
   ],
   "source": [
    "try:\n",
    "    a = int(input())\n",
    "    b = int(input())\n",
    "    c = a/b\n",
    "    print(c)\n",
    "    \n",
    "except (ValueError,ZeroDivisionError) as e:\n",
    "    print(e)"
   ]
  }
 ],
 "metadata": {
  "kernelspec": {
   "display_name": "Python 3",
   "language": "python",
   "name": "python3"
  },
  "language_info": {
   "codemirror_mode": {
    "name": "ipython",
    "version": 3
   },
   "file_extension": ".py",
   "mimetype": "text/x-python",
   "name": "python",
   "nbconvert_exporter": "python",
   "pygments_lexer": "ipython3",
   "version": "3.6.10"
  }
 },
 "nbformat": 4,
 "nbformat_minor": 4
}
