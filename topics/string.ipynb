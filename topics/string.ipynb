{
 "cells": [
  {
   "cell_type": "code",
   "execution_count": 7,
   "metadata": {},
   "outputs": [],
   "source": [
    "s = \"it rains on the plain and it's fine\""
   ]
  },
  {
   "cell_type": "code",
   "execution_count": 5,
   "metadata": {},
   "outputs": [
    {
     "name": "stdout",
     "output_type": "stream",
     "text": [
      "It rains on the plain and it's fine\n"
     ]
    }
   ],
   "source": [
    "s1 = s.capitalize()\n",
    "print(s1)"
   ]
  },
  {
   "cell_type": "code",
   "execution_count": 11,
   "metadata": {},
   "outputs": [
    {
     "name": "stdout",
     "output_type": "stream",
     "text": [
      "Enter username : man\n",
      "it's matching\n"
     ]
    }
   ],
   "source": [
    "a = input(\"Enter username : \")\n",
    "b = \"man\"\n",
    "\n",
    "\n",
    "if a.casefold()== b:\n",
    "    print(\"it's matching\")\n",
    "else:\n",
    "    print(\"No it's not matching\")"
   ]
  },
  {
   "cell_type": "code",
   "execution_count": 33,
   "metadata": {},
   "outputs": [
    {
     "name": "stdout",
     "output_type": "stream",
     "text": [
      "****hellow world****\n"
     ]
    }
   ],
   "source": [
    "s = 'hellow world'\n",
    "\n",
    "s1 = s.center(20,\"*\")\n",
    "\n",
    "print(s1)\n"
   ]
  },
  {
   "cell_type": "code",
   "execution_count": 34,
   "metadata": {},
   "outputs": [],
   "source": [
    "#same string will be returned if the width is less than the length of the original string"
   ]
  },
  {
   "cell_type": "code",
   "execution_count": 37,
   "metadata": {},
   "outputs": [
    {
     "name": "stdout",
     "output_type": "stream",
     "text": [
      "1\n"
     ]
    }
   ],
   "source": [
    "s = \"it rains on the plain and it's fine\"\n",
    "s1 = s.count(\"in\",9,30) # count the occurence of\"in\" from index 9 to till 30\n",
    "print(s1)"
   ]
  },
  {
   "cell_type": "code",
   "execution_count": 39,
   "metadata": {},
   "outputs": [
    {
     "name": "stdout",
     "output_type": "stream",
     "text": [
      "Number of occurrences of substring : 2\n"
     ]
    }
   ],
   "source": [
    "#the string\n",
    "str = 'HelloWorld. Hello TutorialKart.'\n",
    " \n",
    "#substring\n",
    "substr = 'Hello'\n",
    " \n",
    "#finding number of occurrences of substring in given string\n",
    "count = str.count(substr)\n",
    " \n",
    "print(\"Number of occurrences of substring :\", count)"
   ]
  },
  {
   "cell_type": "code",
   "execution_count": 53,
   "metadata": {},
   "outputs": [
    {
     "name": "stdout",
     "output_type": "stream",
     "text": [
      "Python is easy to learn\n"
     ]
    }
   ],
   "source": [
    "s = \"Python is easy to learn\"\n",
    "\n",
    "s1 = s.expandtabs((8))\n",
    "\n",
    "print(s1)"
   ]
  },
  {
   "cell_type": "code",
   "execution_count": 57,
   "metadata": {},
   "outputs": [
    {
     "name": "stdout",
     "output_type": "stream",
     "text": [
      "18\n",
      "23\n"
     ]
    }
   ],
   "source": [
    "s = \"Python is easy to learn\"\n",
    "print(s.find(\"learn\"))\n",
    "print(len(s))\n"
   ]
  },
  {
   "cell_type": "code",
   "execution_count": 58,
   "metadata": {},
   "outputs": [
    {
     "data": {
      "text/plain": [
       "-1"
      ]
     },
     "execution_count": 58,
     "metadata": {},
     "output_type": "execute_result"
    }
   ],
   "source": [
    "s = \"What is your name ?\"\n",
    "s.find(\"hello\") # if not found returns -1"
   ]
  },
  {
   "cell_type": "code",
   "execution_count": 69,
   "metadata": {},
   "outputs": [
    {
     "name": "stdout",
     "output_type": "stream",
     "text": [
      "4\n"
     ]
    }
   ],
   "source": [
    "s = \"it rains\"\n",
    "s1 = s.find(\"a\",3) # count the occurence of \"in\" from index 9\n",
    "print(s1)"
   ]
  },
  {
   "cell_type": "code",
   "execution_count": 73,
   "metadata": {},
   "outputs": [
    {
     "name": "stdout",
     "output_type": "stream",
     "text": [
      "python-easy-programming-language\n"
     ]
    }
   ],
   "source": [
    "#join\n",
    "#cannot applied for integers as it is a string method\n",
    "\n",
    "s = [\"python\",\"easy\",\"programming\",\"language\"]\n",
    "\n",
    "print(\"-\".join(s))"
   ]
  },
  {
   "cell_type": "code",
   "execution_count": 78,
   "metadata": {},
   "outputs": [
    {
     "name": "stdout",
     "output_type": "stream",
     "text": [
      "HELLO, WORLD!\n",
      "hello, world!\n"
     ]
    }
   ],
   "source": [
    "s = 'Hello, World!'\n",
    "x = s.upper()\n",
    "y = s.lower()\n",
    "\n",
    "print(x)\n",
    "print(y)\n"
   ]
  },
  {
   "cell_type": "code",
   "execution_count": 90,
   "metadata": {},
   "outputs": [
    {
     "name": "stdout",
     "output_type": "stream",
     "text": [
      "Please Enter Your Own String : sai PrasAd\n",
      "sai PrasAd\n",
      "sai prasad\n",
      "Total Number of Vowels in this String =  4\n",
      "Total Number of Consonants in this String =  6\n"
     ]
    }
   ],
   "source": [
    "# Python Program to Count Vowels in a String\n",
    "\n",
    "str1 = input(\"Please Enter Your Own String : \")\n",
    "\n",
    "vowels = 0\n",
    "consonants = 0\n",
    "\n",
    "print(str1)\n",
    "\n",
    "Str = str1.lower()\n",
    "\n",
    "print(Str)\n",
    "\n",
    "for i in Str:\n",
    "    if(i == 'a' or i == 'e' or i == 'i' or i == 'o' or i == 'u'):\n",
    "        vowels = vowels + 1\n",
    "    else:\n",
    "        consonants = consonants + 1\n",
    "        \n",
    "        \n",
    "print(\"Total Number of Vowels in this String = \", vowels)\n",
    "print(\"Total Number of Consonants in this String = \", consonants)"
   ]
  },
  {
   "cell_type": "code",
   "execution_count": 99,
   "metadata": {},
   "outputs": [
    {
     "name": "stdout",
     "output_type": "stream",
     "text": [
      "Please Enter your Own String : python\n",
      "Original String :   python\n",
      "Final String :      yhn\n"
     ]
    }
   ],
   "source": [
    "# Python program to Remove Odd Characters in a String\n",
    " \n",
    "str1 = input(\"Please Enter your Own String : \")\n",
    "\n",
    "str2 = ''\n",
    "\n",
    "for i in range(1, len(str1) + 1):\n",
    "    if(i % 2 == 0):\n",
    "        str2 = str2 + str1[i - 1]\n",
    "        \n",
    "print(\"Original String :  \", str1)\n",
    "print(\"Final String :     \", str2)"
   ]
  }
 ],
 "metadata": {
  "kernelspec": {
   "display_name": "Python 3",
   "language": "python",
   "name": "python3"
  },
  "language_info": {
   "codemirror_mode": {
    "name": "ipython",
    "version": 3
   },
   "file_extension": ".py",
   "mimetype": "text/x-python",
   "name": "python",
   "nbconvert_exporter": "python",
   "pygments_lexer": "ipython3",
   "version": "3.6.10"
  }
 },
 "nbformat": 4,
 "nbformat_minor": 4
}
