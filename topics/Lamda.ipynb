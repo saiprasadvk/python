{
 "cells": [
  {
   "cell_type": "markdown",
   "metadata": {},
   "source": [
    "### Lamda"
   ]
  },
  {
   "cell_type": "code",
   "execution_count": 33,
   "metadata": {},
   "outputs": [],
   "source": [
    "# functionname = Lambda arguments : expression\n",
    "#A lambda function can take any number of arguments, but can only have one expression.\n",
    "#Use lambda functions when an anonymous function is required for a short period of time.\n",
    "#lambda function has not been assigned any name"
   ]
  },
  {
   "cell_type": "code",
   "execution_count": 3,
   "metadata": {},
   "outputs": [
    {
     "name": "stdout",
     "output_type": "stream",
     "text": [
      "9\n"
     ]
    }
   ],
   "source": [
    "# Positional arguments\n",
    "\n",
    "add = lambda x, y, z: x+y+z\n",
    "\n",
    "print(add(2, 3, 4))"
   ]
  },
  {
   "cell_type": "code",
   "execution_count": 9,
   "metadata": {},
   "outputs": [
    {
     "name": "stdout",
     "output_type": "stream",
     "text": [
      "6\n"
     ]
    }
   ],
   "source": [
    "## Keyword arguments\n",
    "\n",
    "add = lambda x, y, z: y+z\n",
    "\n",
    "print(add(y = 2,x = 3,z = 4))"
   ]
  },
  {
   "cell_type": "code",
   "execution_count": 14,
   "metadata": {},
   "outputs": [
    {
     "name": "stdout",
     "output_type": "stream",
     "text": [
      "9\n"
     ]
    }
   ],
   "source": [
    "# Default arguments\n",
    "\n",
    "add = lambda x, y=3, z=4: x+y+z\n",
    "\n",
    "print(add(2))"
   ]
  },
  {
   "cell_type": "code",
   "execution_count": 17,
   "metadata": {},
   "outputs": [
    {
     "name": "stdout",
     "output_type": "stream",
     "text": [
      "9\n"
     ]
    }
   ],
   "source": [
    "# *args\n",
    "\n",
    "add = lambda *args: product(args)\n",
    "\n",
    "print(add(2, 3, 4))"
   ]
  },
  {
   "cell_type": "code",
   "execution_count": 31,
   "metadata": {},
   "outputs": [
    {
     "name": "stdout",
     "output_type": "stream",
     "text": [
      "9\n"
     ]
    }
   ],
   "source": [
    "# **args\n",
    "\n",
    "add = lambda **kwargs: sum(kwargs.values())\n",
    "\n",
    "print(add(a=2, v=3, c=4))"
   ]
  },
  {
   "cell_type": "code",
   "execution_count": 34,
   "metadata": {},
   "outputs": [
    {
     "name": "stdout",
     "output_type": "stream",
     "text": [
      "90\n"
     ]
    }
   ],
   "source": [
    "#Lambda inside Normal Function\n",
    "\n",
    "def testfunc(num):\n",
    "    return lambda x : x * num\n",
    "\n",
    "result1 = testfunc(10)\n",
    "\n",
    "print(result1(9))"
   ]
  },
  {
   "cell_type": "code",
   "execution_count": 35,
   "metadata": {},
   "outputs": [
    {
     "name": "stdout",
     "output_type": "stream",
     "text": [
      "90\n",
      "90\n"
     ]
    }
   ],
   "source": [
    "def testfunc(num):\n",
    "    return lambda x : x * num\n",
    "\n",
    "result1 = testfunc(10)\n",
    "result2 = testfunc(10)\n",
    "\n",
    "print(result1(9))\n",
    "print(result2(9))"
   ]
  },
  {
   "cell_type": "code",
   "execution_count": 36,
   "metadata": {},
   "outputs": [
    {
     "name": "stdout",
     "output_type": "stream",
     "text": [
      "[97.7, 99.5, 102.2]\n",
      "[36.5, 37.5, 39.0]\n"
     ]
    }
   ],
   "source": [
    "##Normal function with map\n",
    "\n",
    "def fahrenheit(T):\n",
    "    return ((9/5)*T + 32)\n",
    "def celsius(T):\n",
    "    return ((5/9)*(T-32))\n",
    "\n",
    "temp = (36.5,37.5,39)\n",
    "\n",
    "F = list(map(fahrenheit, temp))\n",
    "C = list(map(celsius, F))\n",
    "\n",
    "print(F)\n",
    "print(C)"
   ]
  },
  {
   "cell_type": "code",
   "execution_count": 35,
   "metadata": {},
   "outputs": [
    {
     "name": "stdout",
     "output_type": "stream",
     "text": [
      "[102.56, 97.7, 93.2]\n",
      "[39.2, 36.5, 34.0]\n"
     ]
    }
   ],
   "source": [
    "#Lamda with map function\n",
    "# map(function , list/tuple/set)\n",
    "\n",
    "Celsius = [39.2, 36.5, 34 ]\n",
    "\n",
    "Fahrenheit = list(map(lambda x: (9/5)*x + 32, Celsius))\n",
    "print(Fahrenheit)\n",
    "\n",
    "C = list(map(lambda x: (5/9)*(x-32), Fahrenheit))\n",
    "print(C)"
   ]
  },
  {
   "cell_type": "code",
   "execution_count": 64,
   "metadata": {},
   "outputs": [
    {
     "name": "stdout",
     "output_type": "stream",
     "text": [
      "['appleorange', 'bananalemon', 'cherrypineapple']\n"
     ]
    }
   ],
   "source": [
    "\n",
    "Y = list(map(lambda a, b : a + b, ('apple', 'banana', 'cherry'), ('orange', 'lemon', 'pineapple')))\n",
    "\n",
    "print(Y)"
   ]
  },
  {
   "cell_type": "code",
   "execution_count": 54,
   "metadata": {},
   "outputs": [
    {
     "name": "stdout",
     "output_type": "stream",
     "text": [
      "[19, 24, 32]\n",
      "[False, False, False, True, True, True]\n"
     ]
    }
   ],
   "source": [
    "## filter(functioname , list/tuple/set) # function - boolen\n",
    "\n",
    "ages = [5, 12, 17, 19, 24, 32]\n",
    "\n",
    "def myFunc(x):\n",
    "    if x < 18:\n",
    "        return False\n",
    "    else:\n",
    "        return True\n",
    "\n",
    "Filter =list(filter(myFunc, ages))\n",
    "Map =list(map(myFunc, ages))\n",
    "\n",
    "print(Filter)\n",
    "print(Map)"
   ]
  },
  {
   "cell_type": "code",
   "execution_count": 65,
   "metadata": {},
   "outputs": [
    {
     "name": "stdout",
     "output_type": "stream",
     "text": [
      "[5, 12, 17]\n",
      "[True, True, True, False, False, False]\n"
     ]
    }
   ],
   "source": [
    "ages = [5, 12, 17, 19, 24, 32]\n",
    "\n",
    "Filter = list(filter(lambda x : x < 18, ages))\n",
    "Map = list(map(lambda x : x < 18, ages))\n",
    "\n",
    "print(Filter)\n",
    "print(Map)"
   ]
  }
 ],
 "metadata": {
  "kernelspec": {
   "display_name": "Python 3",
   "language": "python",
   "name": "python3"
  },
  "language_info": {
   "codemirror_mode": {
    "name": "ipython",
    "version": 3
   },
   "file_extension": ".py",
   "mimetype": "text/x-python",
   "name": "python",
   "nbconvert_exporter": "python",
   "pygments_lexer": "ipython3",
   "version": "3.6.10"
  }
 },
 "nbformat": 4,
 "nbformat_minor": 4
}
