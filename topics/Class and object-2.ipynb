{
 "cells": [
  {
   "cell_type": "code",
   "execution_count": 4,
   "metadata": {},
   "outputs": [
    {
     "name": "stdout",
     "output_type": "stream",
     "text": [
      "123\n",
      "123\n"
     ]
    }
   ],
   "source": [
    "# Python code to define a class\n",
    "\n",
    "# class definition\n",
    "class Number():\n",
    "    #Attribute\n",
    "    num = 123\n",
    "\n",
    "N1 = Number()\n",
    "print(N1.num)  \n",
    "\n",
    "N2 = Number()\n",
    "print(N2.num)"
   ]
  },
  {
   "cell_type": "code",
   "execution_count": 12,
   "metadata": {},
   "outputs": [
    {
     "name": "stdout",
     "output_type": "stream",
     "text": [
      "value after init. the object...\n",
      "msg =  None\n",
      "value after assignValue ()....\n",
      "msg =  Hello World\n",
      "value after getValue ()...\n",
      "msg =  How are you?\n"
     ]
    }
   ],
   "source": [
    "# Python program to demonstrate an \n",
    "# example of class\n",
    "\n",
    "class Message(object):\n",
    "    def __init__(self):\n",
    "        # assign none to variable \n",
    "        self.msg = None\n",
    "\n",
    "    def assignValue(self):\n",
    "        # assign any value \n",
    "        self.msg = \"Hello World\"\n",
    "\n",
    "    def getValue (self,str):\n",
    "        # assign variable with parameter \n",
    "        self.msg = str\n",
    "\n",
    "    def printValue(self):\n",
    "        # print the value \n",
    "        print (\"msg = \",self.msg)\n",
    "\n",
    "# Main code\n",
    "# creating object of the class \n",
    "# Here, M is object nae\n",
    "M = Message()\n",
    "\n",
    "# print value \n",
    "print (\"value after init. the object...\")\n",
    "M.printValue();\n",
    "\n",
    "# assign value \n",
    "M.assignValue() \n",
    "\n",
    "# print value \n",
    "print (\"value after assignValue ()....\")\n",
    "M.printValue();\n",
    "\n",
    "# assign value using arguemnt\n",
    "M.getValue(\"How are you?\")\n",
    "print (\"value after getValue ()...\")\n",
    "M.printValue();"
   ]
  },
  {
   "cell_type": "code",
   "execution_count": 13,
   "metadata": {},
   "outputs": [
    {
     "name": "stdout",
     "output_type": "stream",
     "text": [
      "Name:  XYZ\n",
      "Age :  0\n",
      "Name:  Amit\n",
      "Age :  21\n"
     ]
    }
   ],
   "source": [
    "# Python example for public variables \n",
    "\n",
    "class person:\n",
    "    def __init__(self):\n",
    "        # default values\n",
    "        self.name = \"XYZ\"\n",
    "        self.age = 0\n",
    "\n",
    "    def printValues(self):\n",
    "        print(\"Name: \",self.name) \n",
    "        print(\"Age : \",self.age)\n",
    "\n",
    "# Main code \n",
    "# declare object \n",
    "p = person()\n",
    "# print\n",
    "p.printValues();\n",
    "\n",
    "# since variables are public by default \n",
    "# we can access them directly here \n",
    "p.name = \"Amit\"\n",
    "p.age = 21\n",
    "# print\n",
    "p.printValues ();"
   ]
  },
  {
   "cell_type": "code",
   "execution_count": 24,
   "metadata": {},
   "outputs": [
    {
     "name": "stdout",
     "output_type": "stream",
     "text": [
      "Id\t: 0\n",
      "Name\t: pankaj\n",
      "Gender\t: male\n",
      "City\t: delhi\n",
      "Salary\t: 55000\n"
     ]
    }
   ],
   "source": [
    "# employee class code in Python\n",
    "# class definition\n",
    "class Employee:\n",
    "    ids=0\n",
    "    name=\"\"\n",
    "    gender=\"\"\n",
    "    city=\"\"\n",
    "    salary=0\n",
    "\n",
    "# function to set data \n",
    "    def setData(self,ids,name,gender,city,salary):\n",
    "        self.id = ids\n",
    "        self.name = name\n",
    "        self.gender = gender\n",
    "        self.city = city\n",
    "        self.salary = salary\n",
    "\n",
    "# function to get/print data\n",
    "    def showData(self):\n",
    "        print(\"Id\\t:\",self.ids)\n",
    "        print(\"Name\\t:\", self.name)\n",
    "        print(\"Gender\\t:\", self.gender)\n",
    "        print(\"City\\t:\", self.city)\n",
    "        print(\"Salary\\t:\", self.salary)\n",
    "\n",
    "emp=Employee()\n",
    "emp.setData(1,'pankaj','male','delhi',55000)\n",
    "emp.showData()"
   ]
  },
  {
   "cell_type": "code",
   "execution_count": 23,
   "metadata": {},
   "outputs": [
    {
     "name": "stdout",
     "output_type": "stream",
     "text": [
      "Object Initialized.\n",
      "Enter Id\t:0\n",
      "Enter Name\t:sai\n",
      "Enter Gender:m\n",
      "Enter City\t:madurai\n",
      "Enter Salary:0\n",
      "Id\t\t: 0\n",
      "Name\t: sai\n",
      "Gender\t: m\n",
      "City\t: madurai\n",
      "Salary\t: 0\n",
      "Object Destroyed.\n"
     ]
    }
   ],
   "source": [
    "class Employee:\n",
    "    def __init__(self): #Constructor\n",
    "        self.__id = 0\n",
    "        self.__name = \"\"\n",
    "        self.__gender = \"\"\n",
    "        self.__city = \"\"\n",
    "        self.__salary = 0\n",
    "        print(\"Object Initialized.\")\n",
    "    def __del__(self): #Destructor\n",
    "        print(\"Object Destroyed.\")\n",
    "    def setData(self):\n",
    "        self.__id=int(input(\"Enter Id\\t:\"))\n",
    "        self.__name = input(\"Enter Name\\t:\")\n",
    "        self.__gender = input(\"Enter Gender:\")\n",
    "        self.__city = input(\"Enter City\\t:\")\n",
    "        self.__salary = int(input(\"Enter Salary:\"))\n",
    "    def showData(self):\n",
    "        print(\"Id\\t\\t:\",self.__id)\n",
    "        print(\"Name\\t:\", self.__name)\n",
    "        print(\"Gender\\t:\", self.__gender)\n",
    "        print(\"City\\t:\", self.__city)\n",
    "        print(\"Salary\\t:\", self.__salary)\n",
    "\n",
    "\n",
    "def main():\n",
    "    #Employee Object\n",
    "    emp=Employee()\n",
    "    emp.setData()\n",
    "    emp.showData()\n",
    "\n",
    "if __name__==\"__main__\":\n",
    "    main()"
   ]
  },
  {
   "cell_type": "code",
   "execution_count": null,
   "metadata": {},
   "outputs": [],
   "source": []
  }
 ],
 "metadata": {
  "kernelspec": {
   "display_name": "Python 3",
   "language": "python",
   "name": "python3"
  },
  "language_info": {
   "codemirror_mode": {
    "name": "ipython",
    "version": 3
   },
   "file_extension": ".py",
   "mimetype": "text/x-python",
   "name": "python",
   "nbconvert_exporter": "python",
   "pygments_lexer": "ipython3",
   "version": "3.6.10"
  }
 },
 "nbformat": 4,
 "nbformat_minor": 4
}
