{
 "cells": [
  {
   "cell_type": "code",
   "execution_count": 7,
   "metadata": {},
   "outputs": [
    {
     "name": "stdout",
     "output_type": "stream",
     "text": [
      "list is : ['apple', 'banana', 'cherry']\n",
      "Replace is: ['apple', 'kiwi', 'cherry']\n",
      "('apple', 'kiwi', 'cherry')\n"
     ]
    }
   ],
   "source": [
    "#tuple\n",
    "#Change Tuple Values\n",
    "\n",
    "x = (\"apple\", \"banana\", \"cherry\")\n",
    "y = list(x)\n",
    "\n",
    "print(\"list is :\", y)\n",
    "\n",
    "y[1] = \"kiwi\"\n",
    "\n",
    "print(\"Replace is:\", y)\n",
    "\n",
    "x = tuple(y)\n",
    "\n",
    "print(x)"
   ]
  },
  {
   "cell_type": "code",
   "execution_count": 19,
   "metadata": {},
   "outputs": [
    {
     "name": "stdout",
     "output_type": "stream",
     "text": [
      "<class 'tuple'>\n",
      "<class 'str'>\n",
      "<class 'list'>\n"
     ]
    }
   ],
   "source": [
    "#Loop Through a Tuple\n",
    "\n",
    "thistuple = (\"apple\",)\n",
    "print(type(thistuple))\n",
    "\n",
    "#NOT a tuple\n",
    "thistuple = (\"apple\")\n",
    "print(type(thistuple))\n",
    "\n",
    "#list\n",
    "#NOT a tuple\n",
    "thistuple = [\"apple\"]\n",
    "print(type(thistuple))"
   ]
  },
  {
   "cell_type": "code",
   "execution_count": 18,
   "metadata": {},
   "outputs": [
    {
     "data": {
      "text/plain": [
       "['__add__',\n",
       " '__class__',\n",
       " '__contains__',\n",
       " '__delattr__',\n",
       " '__dir__',\n",
       " '__doc__',\n",
       " '__eq__',\n",
       " '__format__',\n",
       " '__ge__',\n",
       " '__getattribute__',\n",
       " '__getitem__',\n",
       " '__getnewargs__',\n",
       " '__gt__',\n",
       " '__hash__',\n",
       " '__init__',\n",
       " '__init_subclass__',\n",
       " '__iter__',\n",
       " '__le__',\n",
       " '__len__',\n",
       " '__lt__',\n",
       " '__mul__',\n",
       " '__ne__',\n",
       " '__new__',\n",
       " '__reduce__',\n",
       " '__reduce_ex__',\n",
       " '__repr__',\n",
       " '__rmul__',\n",
       " '__setattr__',\n",
       " '__sizeof__',\n",
       " '__str__',\n",
       " '__subclasshook__',\n",
       " 'count',\n",
       " 'index']"
      ]
     },
     "execution_count": 18,
     "metadata": {},
     "output_type": "execute_result"
    }
   ],
   "source": [
    "dir(tuple)"
   ]
  },
  {
   "cell_type": "code",
   "execution_count": 17,
   "metadata": {},
   "outputs": [
    {
     "name": "stdout",
     "output_type": "stream",
     "text": [
      "<class 'tuple'>\n"
     ]
    }
   ],
   "source": [
    "a = (1,2,3,\"a\",\"b\")\n",
    "\n",
    "print(type(a))"
   ]
  },
  {
   "cell_type": "code",
   "execution_count": 48,
   "metadata": {},
   "outputs": [
    {
     "name": "stdout",
     "output_type": "stream",
     "text": [
      "('cc', 'dd', ('eee', 'fff'))\n",
      "cc\n",
      "dd\n",
      "('eee', 'fff')\n",
      "eee\n",
      "5\n",
      "3\n",
      "2\n"
     ]
    }
   ],
   "source": [
    "#Nested Tuples\n",
    "t = ('a', 'b', ('cc', 'dd', ('eee', 'fff')), 'g', 'h')\n",
    "\n",
    "print(t[2])  \n",
    "print(t[2][0])\n",
    "print(t[2][1])\n",
    "print(t[2][2])\n",
    "print(t[2][2][0])\n",
    "\n",
    "print(len(t))       \n",
    "print(len(t[2])) \n",
    "print(len(t[2][2])) "
   ]
  },
  {
   "cell_type": "code",
   "execution_count": 62,
   "metadata": {},
   "outputs": [
    {
     "name": "stdout",
     "output_type": "stream",
     "text": [
      "h\n",
      "('eee', 'fff')\n",
      "eee\n"
     ]
    }
   ],
   "source": [
    "L = ('a', 'b', ('cc', 'dd', ('eee', 'fff')), 'g', 'h')\n",
    "print(L[4])        \n",
    "print(L[-3][-1])      \n",
    "print(L[-3][-1][-2])"
   ]
  },
  {
   "cell_type": "code",
   "execution_count": 61,
   "metadata": {},
   "outputs": [
    {
     "name": "stdout",
     "output_type": "stream",
     "text": [
      "1 2 3 4 5 6 7 8 9 "
     ]
    }
   ],
   "source": [
    "L = ((1, 2, 3),(4, 5, 6),(7, 8, 9))\n",
    "for list in L:\n",
    "    for number in list:\n",
    "        print(number, end=' ')\n",
    "        \n",
    "# Output: 1 2 3 4 5 6 7 8 9"
   ]
  },
  {
   "cell_type": "code",
   "execution_count": 69,
   "metadata": {},
   "outputs": [
    {
     "data": {
      "text/plain": [
       "[2, 3, 5, 4, 7, 7, 8]"
      ]
     },
     "execution_count": 69,
     "metadata": {},
     "output_type": "execute_result"
    }
   ],
   "source": [
    "#Tuple inside List\n",
    "\n",
    "a = [(1,2), (2,3), (4,5), (3,4), (6,7), (6,7), (3,8)]\n",
    "\n",
    "[x[1] for x in a]"
   ]
  },
  {
   "cell_type": "code",
   "execution_count": 73,
   "metadata": {},
   "outputs": [
    {
     "name": "stdout",
     "output_type": "stream",
     "text": [
      "2 3 5 4 7 7 8 "
     ]
    }
   ],
   "source": [
    "a = [(1,2), (2,3), (4,5), (3,4), (6,7), (6,7), (3,8)]\n",
    "\n",
    "#[x[1] for x in a]\n",
    "\n",
    "\n",
    "for x in a:\n",
    "    b = x[1]\n",
    "    print(b,end=\" \")\n",
    "    "
   ]
  },
  {
   "cell_type": "code",
   "execution_count": 75,
   "metadata": {},
   "outputs": [
    {
     "name": "stdout",
     "output_type": "stream",
     "text": [
      "['a', 'c']\n"
     ]
    }
   ],
   "source": [
    "x = [(\"a\", \"b\"),(\"c\", \"d\")]\n",
    "y = []\n",
    "\n",
    "for i in x:\n",
    "    y.append(i[0])\n",
    "print(y)"
   ]
  },
  {
   "cell_type": "code",
   "execution_count": 76,
   "metadata": {},
   "outputs": [
    {
     "name": "stdout",
     "output_type": "stream",
     "text": [
      "['a', 'c']\n"
     ]
    }
   ],
   "source": [
    "y  = [i[0] for i in x]\n",
    "print(y)\n"
   ]
  },
  {
   "cell_type": "code",
   "execution_count": 102,
   "metadata": {},
   "outputs": [
    {
     "name": "stdout",
     "output_type": "stream",
     "text": [
      "Granny Smith\n"
     ]
    }
   ],
   "source": [
    "#Collections Named Tuples\n",
    "\n",
    "#from collections import namedtuple\n",
    "fruit = namedtuple('fruit','number,variety ,color')\n",
    "guava = fruit(2,'HoneyCrisp','green')\n",
    "apple = fruit(number=5,variety='Granny Smith',color='red')\n",
    "\n",
    "print(apple.variety)"
   ]
  },
  {
   "cell_type": "code",
   "execution_count": 103,
   "metadata": {},
   "outputs": [
    {
     "name": "stdout",
     "output_type": "stream",
     "text": [
      "John\n"
     ]
    }
   ],
   "source": [
    "Student = namedtuple('Student', 'fname, lname, age')\n",
    "s1 = Student('John', 'Clarke', '13')\n",
    "print(s1.fname)"
   ]
  },
  {
   "cell_type": "code",
   "execution_count": 104,
   "metadata": {},
   "outputs": [
    {
     "name": "stdout",
     "output_type": "stream",
     "text": [
      "Student(fname='Adam', lname='joe', age='18')\n"
     ]
    }
   ],
   "source": [
    "s2 = Student._make(['Adam','joe','18'])\n",
    "print(s2)"
   ]
  },
  {
   "cell_type": "code",
   "execution_count": 7,
   "metadata": {},
   "outputs": [
    {
     "name": "stdout",
     "output_type": "stream",
     "text": [
      "Student(fname='John', lname='Clarke', age='13')\n",
      "OrderedDict([('fname', 'John'), ('lname', 'Clarke'), ('age', '13')])\n"
     ]
    }
   ],
   "source": [
    "from collections import namedtuple\n",
    "# Creating a named tuple\n",
    "\n",
    "Student = namedtuple('Student', 'fname, lname, age')\n",
    "s1 = Student('John', 'Clarke', '13')\n",
    "print(s1)\n",
    "\n",
    "s2 = s1._asdict()\n",
    "print(s2)"
   ]
  },
  {
   "cell_type": "code",
   "execution_count": 28,
   "metadata": {},
   "outputs": [
    {
     "name": "stdout",
     "output_type": "stream",
     "text": [
      "deque(['a', 'b', 'c', 'd', 'e'])\n",
      "deque(['a', 'b', 'c', 'd', 'e', 'New'])\n"
     ]
    }
   ],
   "source": [
    "#deque\n",
    "\n",
    "from collections import deque\n",
    "\n",
    "\n",
    "a = ['a','b','c','d','e']\n",
    "\n",
    "b = deque(a)\n",
    "print(b)\n",
    "\n",
    "c = b.append('New')\n",
    "print(b)"
   ]
  },
  {
   "cell_type": "code",
   "execution_count": 25,
   "metadata": {},
   "outputs": [
    {
     "name": "stdout",
     "output_type": "stream",
     "text": [
      "ChainMap({1: 'Test', 2: 'python'}, {3: 'training', 4: 'core'})\n"
     ]
    }
   ],
   "source": [
    "#Chainmap\n",
    "#Chainmap is a dictionary like class for creating a single view of multipe mappings\n",
    "\n",
    "#from collections import ChainMap\n",
    "\n",
    "a = {1: 'Test', 2: 'python'}\n",
    "b = {3: 'training', 4: 'core'}\n",
    "\n",
    "c = ChainMap(a,b)\n",
    "print(c)\n"
   ]
  },
  {
   "cell_type": "code",
   "execution_count": 27,
   "metadata": {},
   "outputs": [
    {
     "name": "stdout",
     "output_type": "stream",
     "text": [
      "({1: 'Test', 2: 'python'}, {3: 'training', 4: 'core'})\n"
     ]
    }
   ],
   "source": [
    "\n",
    "a = {1: 'Test', 2: 'python'}\n",
    "b = {3: 'training', 4: 'core'}\n",
    "\n",
    "c = (a,b)\n",
    "print(c)"
   ]
  },
  {
   "cell_type": "code",
   "execution_count": 20,
   "metadata": {},
   "outputs": [
    {
     "name": "stdout",
     "output_type": "stream",
     "text": [
      "Counter({2: 5, 1: 4, 3: 3, 4: 2, 5: 1})\n"
     ]
    }
   ],
   "source": [
    "#Counter\n",
    "\n",
    "from collections import Counter\n",
    "\n",
    "a = [1,1,1,2,3,4,2,3,2,2,2,4,5,3,1]\n",
    "\n",
    "c = Counter(a)\n",
    "\n",
    "print(c)"
   ]
  },
  {
   "cell_type": "code",
   "execution_count": 21,
   "metadata": {},
   "outputs": [
    {
     "name": "stdout",
     "output_type": "stream",
     "text": [
      "[1, 1, 1, 1, 2, 2, 2, 2, 2, 3, 3, 3, 4, 4, 5]\n"
     ]
    }
   ],
   "source": [
    "print(list(c.elements()))"
   ]
  },
  {
   "cell_type": "code",
   "execution_count": 22,
   "metadata": {},
   "outputs": [
    {
     "name": "stdout",
     "output_type": "stream",
     "text": [
      "[(2, 5), (1, 4), (3, 3), (4, 2), (5, 1)]\n"
     ]
    }
   ],
   "source": [
    "print(c.most_common())"
   ]
  },
  {
   "cell_type": "code",
   "execution_count": 23,
   "metadata": {},
   "outputs": [
    {
     "name": "stdout",
     "output_type": "stream",
     "text": [
      "[(1, 4), (2, 4), (3, 3), (4, 2), (5, 0)]\n"
     ]
    }
   ],
   "source": [
    "sub = {2:1, 5:1}\n",
    "c.subtract(sub)\n",
    "print(c.most_common())\n"
   ]
  },
  {
   "cell_type": "code",
   "execution_count": 25,
   "metadata": {},
   "outputs": [
    {
     "name": "stdout",
     "output_type": "stream",
     "text": [
      "OrderedDict([(1, 's'), (2, 'a'), (3, 'i'), (4, 'p'), (5, 'r'), (6, 'a'), (7, 's'), (8, 'a'), (9, 'd')])\n"
     ]
    }
   ],
   "source": [
    "#OrderedDict\n",
    "#OrderedDict is dictionary subclass which remembers the order in which the entries were done.\n",
    "\n",
    "from collections import OrderedDict\n",
    "\n",
    "d = OrderedDict()\n",
    "d[1] = 's'\n",
    "d[2] = 'a'\n",
    "d[3] = 'i'\n",
    "d[4] = 'p'\n",
    "d[5] = 'r'\n",
    "d[6] = 'a'\n",
    "d[7] = 's'\n",
    "d[8] = 'a'\n",
    "d[9] = 'd'\n",
    "\n",
    "print(d)"
   ]
  },
  {
   "cell_type": "code",
   "execution_count": 28,
   "metadata": {},
   "outputs": [
    {
     "name": "stdout",
     "output_type": "stream",
     "text": [
      "defaultdict(<class 'float'>, {1: 'python', 2: 'self'})\n"
     ]
    }
   ],
   "source": [
    "#defaultdict \n",
    "#It is a dictionary subclass which calls a factory function to supply missing values\n",
    "\n",
    "from collections import defaultdict\n",
    "d = defaultdict(float)\n",
    "\n",
    "d[1] = 'python'\n",
    "d[2] = 'self'\n",
    "\n",
    "print(d)\n"
   ]
  },
  {
   "cell_type": "code",
   "execution_count": 30,
   "metadata": {},
   "outputs": [
    {
     "name": "stdout",
     "output_type": "stream",
     "text": [
      "0.0\n"
     ]
    }
   ],
   "source": [
    "print(d[3])"
   ]
  },
  {
   "cell_type": "code",
   "execution_count": 32,
   "metadata": {},
   "outputs": [
    {
     "name": "stdout",
     "output_type": "stream",
     "text": [
      "{1: 'python', 2: 'Self'}\n"
     ]
    }
   ],
   "source": [
    "#other or without defaultdict,it will throw error if call value not in list\n",
    "\n",
    "a = {1: \"python\", 2: \"Self\"}\n",
    "print(a)"
   ]
  },
  {
   "cell_type": "code",
   "execution_count": 33,
   "metadata": {},
   "outputs": [
    {
     "ename": "KeyError",
     "evalue": "3",
     "output_type": "error",
     "traceback": [
      "\u001b[0;31m---------------------------------------------------------------------------\u001b[0m",
      "\u001b[0;31mKeyError\u001b[0m                                  Traceback (most recent call last)",
      "\u001b[0;32m<ipython-input-33-5451d47c444b>\u001b[0m in \u001b[0;36m<module>\u001b[0;34m\u001b[0m\n\u001b[0;32m----> 1\u001b[0;31m \u001b[0mprint\u001b[0m\u001b[0;34m(\u001b[0m\u001b[0ma\u001b[0m\u001b[0;34m[\u001b[0m\u001b[0;36m3\u001b[0m\u001b[0;34m]\u001b[0m\u001b[0;34m)\u001b[0m\u001b[0;34m\u001b[0m\u001b[0;34m\u001b[0m\u001b[0m\n\u001b[0m",
      "\u001b[0;31mKeyError\u001b[0m: 3"
     ]
    }
   ],
   "source": [
    "print(a[3])"
   ]
  },
  {
   "cell_type": "code",
   "execution_count": null,
   "metadata": {},
   "outputs": [],
   "source": [
    "#Array\n",
    "#An array is basically a data structure which can hold more than one value at a time.It is a collection or ordered series of elements \n",
    "#of the same type\n",
    "\n",
    "#Array can store single datatype value were List store mutliple datatype value(int,float,sting)\n"
   ]
  },
  {
   "cell_type": "code",
   "execution_count": 2,
   "metadata": {},
   "outputs": [
    {
     "data": {
      "text/plain": [
       "array('i', [1, 2, 3, 4, 5, 6])"
      ]
     },
     "execution_count": 2,
     "metadata": {},
     "output_type": "execute_result"
    }
   ],
   "source": [
    "import array as arr\n",
    "\n",
    "a = arr.array(\"i\",[1,2,3,4,5,6])\n",
    "a"
   ]
  },
  {
   "cell_type": "code",
   "execution_count": 24,
   "metadata": {},
   "outputs": [
    {
     "data": {
      "text/plain": [
       "3"
      ]
     },
     "execution_count": 24,
     "metadata": {},
     "output_type": "execute_result"
    }
   ],
   "source": [
    "a[2]"
   ]
  },
  {
   "cell_type": "code",
   "execution_count": 25,
   "metadata": {},
   "outputs": [
    {
     "data": {
      "text/plain": [
       "6"
      ]
     },
     "execution_count": 25,
     "metadata": {},
     "output_type": "execute_result"
    }
   ],
   "source": [
    "len(a)"
   ]
  },
  {
   "cell_type": "code",
   "execution_count": 26,
   "metadata": {},
   "outputs": [
    {
     "name": "stdout",
     "output_type": "stream",
     "text": [
      "array('i', [1, 2, 3, 4, 5])\n"
     ]
    }
   ],
   "source": [
    "a.pop()\n",
    "print(a)"
   ]
  },
  {
   "cell_type": "code",
   "execution_count": 27,
   "metadata": {},
   "outputs": [
    {
     "name": "stdout",
     "output_type": "stream",
     "text": [
      "array('i', [1, 2, 4, 5])\n"
     ]
    }
   ],
   "source": [
    "a.pop(2)\n",
    "print(a)"
   ]
  },
  {
   "cell_type": "code",
   "execution_count": 28,
   "metadata": {},
   "outputs": [
    {
     "name": "stdout",
     "output_type": "stream",
     "text": [
      "array('i', [1, 2, 5])\n"
     ]
    }
   ],
   "source": [
    "a.remove(4)\n",
    "print(a)"
   ]
  },
  {
   "cell_type": "code",
   "execution_count": 29,
   "metadata": {},
   "outputs": [],
   "source": [
    "#Concatenation mean joining"
   ]
  },
  {
   "cell_type": "code",
   "execution_count": 3,
   "metadata": {},
   "outputs": [
    {
     "name": "stdout",
     "output_type": "stream",
     "text": [
      "array('i', [1, 2, 3, 4, 5, 6, 7, 8, 9, 10, 11, 12])\n"
     ]
    }
   ],
   "source": [
    "a = arr.array(\"i\",[1,2,3,4,5,6,7])\n",
    "b = arr.array(\"i\",[8,9,10,11,12])\n",
    "#c = arr.a\n",
    "d = a+b\n",
    "print(d)"
   ]
  },
  {
   "cell_type": "code",
   "execution_count": 5,
   "metadata": {},
   "outputs": [
    {
     "name": "stdout",
     "output_type": "stream",
     "text": [
      "[19, 65, 23, 90]\n"
     ]
    }
   ],
   "source": [
    "# Python3 program to swap elements at given positions \n",
    "\n",
    "def swapPositions(list, pos1, pos2): \n",
    "    \n",
    "    list[pos1], list[pos2] = list[pos2], list[pos1] \n",
    "    return list\n",
    "\n",
    "# Driver function \n",
    "List = [23, 65, 19, 90] \n",
    "pos1, pos2 = 1, 3\n",
    "\n",
    "print(swapPositions(List, pos1-1, pos2-1)) "
   ]
  },
  {
   "cell_type": "code",
   "execution_count": 9,
   "metadata": {},
   "outputs": [
    {
     "name": "stdout",
     "output_type": "stream",
     "text": [
      "Updated list is:  ['for', 'geeks']\n"
     ]
    },
    {
     "data": {
      "text/plain": [
       "['for', 'geeks']"
      ]
     },
     "execution_count": 9,
     "metadata": {},
     "output_type": "execute_result"
    }
   ],
   "source": [
    "# Python3 program to remove Nth \n",
    "# occurrence of the given word \n",
    "\n",
    "# Function to remove Ith word \n",
    "def RemoveIthWord(lst, word, N): \n",
    "    newList = [] \n",
    "    count = 0\n",
    "\n",
    "# iterate the elements \n",
    "    for i in lst: \n",
    "        if(i == word): \n",
    "            count = count + 1\n",
    "            if(count != N): \n",
    "                newList.append(i) \n",
    "        else: \n",
    "            newList.append(i) \n",
    "\n",
    "    lst = newList \n",
    "    \n",
    "    if count == 0: \n",
    "        print(\"Item not found\") \n",
    "    else: \n",
    "        print(\"Updated list is: \", lst)\t \n",
    "\n",
    "    return newList \n",
    "\n",
    "# Driver code \n",
    "list = [\"geeks\", \"for\", \"geeks\"] \n",
    "word = \"geeks\"\n",
    "N = 1\n",
    "\n",
    "RemoveIthWord(list, word, N) "
   ]
  },
  {
   "cell_type": "code",
   "execution_count": 19,
   "metadata": {},
   "outputs": [
    {
     "name": "stdout",
     "output_type": "stream",
     "text": [
      "The list is :  [1, 4, 5, 7, 8]\n",
      "Length of list using naive method is :  5\n"
     ]
    }
   ],
   "source": [
    "# Python code to demonstrate length of list \n",
    "\n",
    "test_list = [ 1, 4, 5, 7, 8 ] \n",
    "\n",
    "print (\"The list is : \",test_list) \n",
    "\n",
    "counter = 0\n",
    "for i in test_list: \n",
    "    counter = counter + 1\n",
    "\n",
    "print (\"Length of list using naive method is : \",counter) "
   ]
  },
  {
   "cell_type": "code",
   "execution_count": 1,
   "metadata": {},
   "outputs": [
    {
     "name": "stdout",
     "output_type": "stream",
     "text": [
      "Enter the how many number going to create in list:3\n",
      "12\n",
      "22\n",
      "32\n",
      "[12, 22, 32]\n",
      "Enter the number to check in list:12\n",
      "Entered number is there in list1\n"
     ]
    }
   ],
   "source": [
    "#Ways to check if element exists in list\n",
    "\n",
    "n = int(input(\"Enter the how many number going to create in list:\"))\n",
    "\n",
    "list = []\n",
    "\n",
    "for i in range(0,n):\n",
    "    l = int(input())\n",
    "    list.append(l)    \n",
    "\n",
    "print(list)\n",
    "a = int(input(\"Enter the number to check in list:\"))\n",
    "\n",
    "if a in list:\n",
    "    print(\"Entered number is there in list1\")\n",
    "else:\n",
    "    print(\"not found\")"
   ]
  },
  {
   "cell_type": "code",
   "execution_count": 1,
   "metadata": {},
   "outputs": [
    {
     "name": "stdout",
     "output_type": "stream",
     "text": [
      "[15, 14, 13, 12, 11, 10]\n"
     ]
    }
   ],
   "source": [
    "#reverse the list\n",
    "\n",
    "# Reversing a list using reverse() \n",
    "def Reverse(lst): \n",
    "    lst.reverse() \n",
    "    return lst \n",
    "\n",
    "lst = [10, 11, 12, 13, 14, 15] \n",
    "print(Reverse(lst))"
   ]
  },
  {
   "cell_type": "code",
   "execution_count": 15,
   "metadata": {},
   "outputs": [
    {
     "data": {
      "text/plain": [
       "[15, 14, 13, 12, 11, 10]"
      ]
     },
     "execution_count": 15,
     "metadata": {},
     "output_type": "execute_result"
    }
   ],
   "source": [
    "lst = [10, 11, 12, 13, 14, 15]\n",
    "\n",
    "lst[::-1]"
   ]
  },
  {
   "cell_type": "code",
   "execution_count": 22,
   "metadata": {},
   "outputs": [],
   "source": [
    "l = [1,2,3,4,5]\n",
    "\n",
    "l.reverse()"
   ]
  },
  {
   "cell_type": "code",
   "execution_count": 24,
   "metadata": {},
   "outputs": [
    {
     "name": "stdout",
     "output_type": "stream",
     "text": [
      "Original List: [4, 8, 2, 10, 15, 18]\n",
      "After Cloning: [4, 8, 2, 10, 15, 18]\n"
     ]
    }
   ],
   "source": [
    "# Python code to clone or copy a list \n",
    "\n",
    "def Cloning(li1): \n",
    "    li_copy = [] \n",
    "    li_copy.extend(li1) \n",
    "    return li_copy \n",
    "\n",
    "# Driver Code \n",
    "li1 = [4, 8, 2, 10, 15, 18] \n",
    "li2 = Cloning(li1) \n",
    "print(\"Original List:\", li1) \n",
    "print(\"After Cloning:\", li2) \n"
   ]
  },
  {
   "cell_type": "code",
   "execution_count": 1,
   "metadata": {},
   "outputs": [
    {
     "name": "stdout",
     "output_type": "stream",
     "text": [
      "192\n"
     ]
    }
   ],
   "source": [
    "#find sum of elements in list\n",
    "\n",
    "a = [24, 43, 12, 98, 15]\n",
    "sum = 0\n",
    "\n",
    "for i in a:\n",
    "    sum = i + sum\n",
    "print(sum)"
   ]
  },
  {
   "cell_type": "code",
   "execution_count": 2,
   "metadata": {},
   "outputs": [
    {
     "name": "stdout",
     "output_type": "stream",
     "text": [
      "32\n"
     ]
    }
   ],
   "source": [
    "#Multiply all numbers in the list\n",
    "\n",
    "a = [2, 2, 2, 2, 2]\n",
    "sum = 1\n",
    "\n",
    "for i in a:\n",
    "    sum = i * sum\n",
    "print(sum)"
   ]
  },
  {
   "cell_type": "code",
   "execution_count": 2,
   "metadata": {},
   "outputs": [
    {
     "name": "stdout",
     "output_type": "stream",
     "text": [
      "32\n",
      "10\n"
     ]
    }
   ],
   "source": [
    "import numpy  \n",
    "list1 = [2, 2, 2, 2, 2]\n",
    "result1 = numpy.prod(list1)\n",
    "print(result1) \n",
    "\n",
    "result2 = numpy.sum(list1)\n",
    "print(result2)"
   ]
  },
  {
   "cell_type": "code",
   "execution_count": 32,
   "metadata": {},
   "outputs": [
    {
     "name": "stdout",
     "output_type": "stream",
     "text": [
      "List of numbers are:  [4, 10, 20, 45, 99]\n",
      "Smallest element is: 4\n",
      "Largest element is: 99\n"
     ]
    }
   ],
   "source": [
    "#find smallest and largest number in a list\n",
    "\n",
    "list1 = [10, 20, 4, 45, 99] \n",
    "\n",
    "list1.sort() \n",
    "print(\"List of numbers are: \",list1)\n",
    "\n",
    "print(\"Smallest element is:\", *list1[:1]) \n",
    "\n",
    "print(\"Largest element is:\", list1[-1])"
   ]
  },
  {
   "cell_type": "code",
   "execution_count": 34,
   "metadata": {},
   "outputs": [
    {
     "name": "stdout",
     "output_type": "stream",
     "text": [
      "second largest element is: 45\n"
     ]
    }
   ],
   "source": [
    "#find second largest number in a list\n",
    "\n",
    "\n",
    "print(\"second largest element is:\", list1[-2])"
   ]
  },
  {
   "cell_type": "code",
   "execution_count": 47,
   "metadata": {},
   "outputs": [
    {
     "name": "stdout",
     "output_type": "stream",
     "text": [
      "Enter the nth number: 2\n",
      "[2, 3, 10, 45, 52, 81, 96]\n",
      "Nth largest element is: [81, 96]\n"
     ]
    }
   ],
   "source": [
    "#find N largest elements from a list\n",
    "\n",
    "n = int(input(\"Enter the nth number: \"))\n",
    "\n",
    "#a = [23, 34, 15, 57, 94]\n",
    "a = [81, 52, 45, 10, 3, 2, 96] \n",
    "\n",
    "a.sort()\n",
    "\n",
    "print(a)\n",
    "\n",
    "print(\"Nth largest element is:\", a[-n:])"
   ]
  },
  {
   "cell_type": "code",
   "execution_count": 51,
   "metadata": {},
   "outputs": [
    {
     "name": "stdout",
     "output_type": "stream",
     "text": [
      "[52, 10, 2, 96]\n"
     ]
    }
   ],
   "source": [
    "#print even numbers in a list\n",
    "\n",
    "a = [81, 52, 45, 10, 3, 2, 96] \n",
    "b = []\n",
    "\n",
    "for i in a:\n",
    "    if i % 2 == 0:\n",
    "        b.append(i)\n",
    "        \n",
    "print(b)        \n",
    "        "
   ]
  },
  {
   "cell_type": "code",
   "execution_count": 55,
   "metadata": {},
   "outputs": [
    {
     "name": "stdout",
     "output_type": "stream",
     "text": [
      "Start number :2\n",
      "end number :19\n",
      "[2, 4, 6, 8, 10, 12, 14, 16, 18]\n"
     ]
    }
   ],
   "source": [
    "#print all even numbers in a range\n",
    "\n",
    "sn = int(input(\"Start number :\"))\n",
    "end = int(input(\"end number :\"))\n",
    "\n",
    "b = []\n",
    "\n",
    "for i in range (sn,end+1):\n",
    "    if i % 2 == 0:\n",
    "         b.append(i)\n",
    "            \n",
    "print(b)        "
   ]
  },
  {
   "cell_type": "code",
   "execution_count": 57,
   "metadata": {},
   "outputs": [
    {
     "name": "stdout",
     "output_type": "stream",
     "text": [
      "4\n",
      "3\n"
     ]
    }
   ],
   "source": [
    "#count Even and Odd numbers in a List\n",
    "\n",
    "a = [81, 52, 45, 10, 3, 2, 96]\n",
    "\n",
    "even = 0\n",
    "odd = 0\n",
    "\n",
    "for i in a:\n",
    "    if i % 2 == 0:\n",
    "        even = 1 + even\n",
    "    else:\n",
    "        odd = 1 + odd\n",
    "        \n",
    "print(even)\n",
    "print(odd)"
   ]
  },
  {
   "cell_type": "code",
   "execution_count": 1,
   "metadata": {},
   "outputs": [
    {
     "name": "stdout",
     "output_type": "stream",
     "text": [
      "[('ram', '15', '8'), ('laxman', 'sita'), ('krishna', 'akbar', '45'), ('', '')]\n"
     ]
    }
   ],
   "source": [
    "# Python program to remove empty tuples from a \n",
    "# list of tuples function to remove empty tuples \n",
    "# using list comprehension \n",
    "def Remove(tuples): \n",
    "    tuples = [t for t in tuples if t] \n",
    "    return tuples \n",
    "\n",
    "# Driver Code \n",
    "tuples = [(), ('ram','15','8'), (), ('laxman', 'sita'),('krishna', 'akbar', '45'), ('',''),()] \n",
    "\n",
    "print(Remove(tuples)) "
   ]
  },
  {
   "cell_type": "code",
   "execution_count": 13,
   "metadata": {},
   "outputs": [
    {
     "name": "stdout",
     "output_type": "stream",
     "text": [
      "13\n",
      "[20, 30, -20, 60]\n"
     ]
    }
   ],
   "source": [
    "#duplicates from a list of integers\n",
    "\n",
    "def Repeat(x): \n",
    "    _size = len(x)\n",
    "    print(_size)\n",
    "    repeated = [] \n",
    "    for i in range(_size): \n",
    "        k = i + 1\n",
    "        for j in range(k, _size):\n",
    "            if x[i] == x[j] and x[i] not in repeated: \n",
    "                repeated.append(x[i]) \n",
    "    return repeated \n",
    "\n",
    "list1 = [10, 20, 30, 20, 20, 30, 40, 50, -20, 60, 60, -20, -20]\n",
    "\n",
    "print (Repeat(list1)) \n"
   ]
  },
  {
   "cell_type": "code",
   "execution_count": 5,
   "metadata": {},
   "outputs": [
    {
     "name": "stdout",
     "output_type": "stream",
     "text": [
      "[20, 30, -20, 60]\n"
     ]
    }
   ],
   "source": [
    "x = [10, 20, 30, 20, 20, 30, 40, 50, -20, 60, 60, -20, -20]\n",
    "_size = len(x)\n",
    "repeated = [] \n",
    "\n",
    "for i in range(_size): \n",
    "        k = i + 1\n",
    "        for j in range(k, _size):\n",
    "            if x[i] == x[j] and x[i] not in repeated: \n",
    "                repeated.append(x[i])\n",
    "        \n",
    "print(repeated)\n"
   ]
  },
  {
   "cell_type": "code",
   "execution_count": 48,
   "metadata": {},
   "outputs": [
    {
     "name": "stdout",
     "output_type": "stream",
     "text": [
      "[4, 14, 29, 47, 67]\n"
     ]
    }
   ],
   "source": [
    "x = [4, 10, 15, 18, 20]\n",
    "y = []\n",
    "sum = 0\n",
    "\n",
    "for i in range (len(x)):\n",
    "    if i >= 1:\n",
    "        sum = x[i] + sum\n",
    "        y.append(sum)\n",
    "    else:\n",
    "        i = x[i]\n",
    "        sum = i + sum\n",
    "        y.append(i)\n",
    "    \n",
    "print(y)\n"
   ]
  },
  {
   "cell_type": "code",
   "execution_count": 37,
   "metadata": {},
   "outputs": [
    {
     "name": "stdout",
     "output_type": "stream",
     "text": [
      "[4, 14, 29, 47, 67]\n"
     ]
    }
   ],
   "source": [
    "x = [4, 10, 15, 18, 20]\n",
    "y = []\n",
    "sum = 0\n",
    "\n",
    "for i in range (len(x)):\n",
    "        sum = x[i] + sum\n",
    "        y.append(sum)\n",
    "    \n",
    "print(y)\n"
   ]
  },
  {
   "cell_type": "code",
   "execution_count": 1,
   "metadata": {},
   "outputs": [
    {
     "name": "stdout",
     "output_type": "stream",
     "text": [
      "[10, 30, 60, 100, 150]\n"
     ]
    }
   ],
   "source": [
    "# Python code to get the Cumulative sum of a list \n",
    "def Cumulative(lists): \n",
    "    cu_list = [] \n",
    "    length = len(lists) \n",
    "    cu_list = [sum(lists[0:x:1]) for x in range(0, length+1)] \n",
    "    return cu_list[1:] \n",
    "\n",
    "# Driver Code \n",
    "lists = [10, 20, 30, 40, 50] \n",
    "print (Cumulative(lists)) \n"
   ]
  },
  {
   "cell_type": "code",
   "execution_count": 7,
   "metadata": {},
   "outputs": [
    {
     "name": "stdout",
     "output_type": "stream",
     "text": [
      "[10, 30, 60, 100, 150]\n"
     ]
    }
   ],
   "source": [
    "def Cumulative(x):\n",
    "    y = []\n",
    "    sum = 0\n",
    "    for i in range (len(x)):\n",
    "        sum = x[i] + sum\n",
    "        y.append(sum)\n",
    "    return y    \n",
    "\n",
    "x = [10, 20, 30, 40, 50] \n",
    "print(Cumulative(x))\n"
   ]
  },
  {
   "cell_type": "code",
   "execution_count": 13,
   "metadata": {},
   "outputs": [
    {
     "name": "stdout",
     "output_type": "stream",
     "text": [
      "[['geeks', 'for', 'geeks', 'like', 'geeky'], ['nerdy', 'geek', 'love', 'questions', 'words'], ['life']]\n"
     ]
    }
   ],
   "source": [
    "my_list = ['geeks', 'for', 'geeks', 'like','geeky','nerdy', 'geek', 'love', 'questions', 'words', 'life'] \n",
    "\n",
    "# Yield successive n-sized chunks from l. \n",
    "def divide_chunks(l, n):\n",
    "    for i in range(0, len(l), n): \n",
    "        yield l[i:i + n] \n",
    "\n",
    "# How many elements each list should have \n",
    "n = 5\n",
    "\n",
    "x = list(divide_chunks(my_list, n)) \n",
    "print (x) "
   ]
  },
  {
   "cell_type": "code",
   "execution_count": 47,
   "metadata": {},
   "outputs": [
    {
     "name": "stdout",
     "output_type": "stream",
     "text": [
      "[['geeks', 'for', 'geeks', 'like', 'geeky'], ['nerdy', 'geek', 'love', 'questions', 'words'], ['life']]\n"
     ]
    }
   ],
   "source": [
    "#final = [my_list[i * n:(i + 1) * n] for i in range((len(my_list) + n - 1) // n )]  \n",
    "n = 5\n",
    "my_list = ['geeks', 'for', 'geeks', 'like','geeky','nerdy', 'geek', 'love', 'questions', 'words', 'life'] \n",
    "y = []\n",
    "\n",
    "for i in range((len(my_list) + n - 1) // n ):\n",
    "    x = my_list[i * n:(i + 1) * n]\n",
    "    y.append(x)\n",
    "         \n",
    "print(y)"
   ]
  },
  {
   "cell_type": "code",
   "execution_count": 8,
   "metadata": {},
   "outputs": [
    {
     "name": "stdout",
     "output_type": "stream",
     "text": [
      "Sum of the array is  34\n"
     ]
    }
   ],
   "source": [
    "#sum of elements in given array \n",
    "\n",
    "def Sum(arr): \n",
    "    a = sum(arr)\n",
    "    return a\n",
    "\n",
    "a = {12, 3, 4, 15}\n",
    "ans = Sum(a)\n",
    "print ('Sum of the array is ', ans) \n"
   ]
  },
  {
   "cell_type": "code",
   "execution_count": 13,
   "metadata": {},
   "outputs": [
    {
     "name": "stdout",
     "output_type": "stream",
     "text": [
      "4\n",
      "Largest in given array is 9808\n"
     ]
    }
   ],
   "source": [
    "# python function to find maximum  in arr[] of size n \n",
    "\n",
    "def largest(arr,n): \n",
    "    max = arr[0]   #324\n",
    "    for i in range(1, n): #5\n",
    "        if arr[i] > max: #10 > 324\n",
    "            print(i)\n",
    "            max = arr[i] \n",
    "    return max\n",
    "\n",
    "# Driver Code \n",
    "arr = [324, 10, 45, 90, 9808] \n",
    "n = len(arr) \n",
    "Ans = largest(arr,n) \n",
    "print (\"Largest in given array is\",Ans)"
   ]
  },
  {
   "cell_type": "code",
   "execution_count": 1,
   "metadata": {},
   "outputs": [
    {
     "name": "stdout",
     "output_type": "stream",
     "text": [
      "before [4, 5, 6, 7]\n",
      "after [1, 2, 3]\n",
      "[[4, 5, 6, 7], [1, 2, 3]]\n"
     ]
    }
   ],
   "source": [
    "#Input arr[] = [1, 2, 3, 4, 5, 6, 7], d = 2, n =7\n",
    "a = [1, 2, 3, 4, 5, 6, 7]\n",
    "\n",
    "d = 3\n",
    "n = 7\n",
    "tem = []\n",
    "tem1 = []\n",
    "\n",
    "c = a[d:]\n",
    "tem1.append(c)\n",
    "b = a[:d]\n",
    "tem.append(b)\n",
    "\n",
    "print(\"before\",*tem1)\n",
    "print(\"after\",*tem)\n",
    "\n",
    "for x in tem:\n",
    "    tem1.append(x)\n",
    "    \n",
    "print(tem1)"
   ]
  },
  {
   "cell_type": "code",
   "execution_count": 2,
   "metadata": {},
   "outputs": [
    {
     "name": "stdout",
     "output_type": "stream",
     "text": [
      "c [4, 5, 6, 7, 1, 2, 3]\n",
      "[4, 5, 6, 7, 1, 2, 3]\n"
     ]
    }
   ],
   "source": [
    "tem1 = [4, 5, 6, 7]\n",
    "tem = [1, 2, 3]\n",
    "\n",
    "c = [*tem1, *tem]\n",
    "print(\"c\",c)\n",
    "for x in tem:\n",
    "    tem1.append(x)\n",
    "\n",
    "print(tem1)"
   ]
  },
  {
   "cell_type": "code",
   "execution_count": 3,
   "metadata": {},
   "outputs": [
    {
     "name": "stdout",
     "output_type": "stream",
     "text": [
      "[[4, 5, 6, 7], [1, 2, 3]]\n"
     ]
    }
   ],
   "source": [
    "a = [1, 2, 3, 4, 5, 6, 7]\n",
    "\n",
    "d = 3\n",
    "n = 7\n",
    "\n",
    "def interchange(a):\n",
    "    tem = []\n",
    "    tem1 = []\n",
    "\n",
    "    c = a[d:]\n",
    "    tem1.append(c)\n",
    "    b = a[:d]\n",
    "    tem.append(b)\n",
    "\n",
    "    for x in tem:\n",
    "        #tem1.append(x)\n",
    "        join = [*tem1, *tem]\n",
    "    return(join)\n",
    "\n",
    "\n",
    "print(interchange(a))"
   ]
  },
  {
   "cell_type": "code",
   "execution_count": null,
   "metadata": {},
   "outputs": [],
   "source": []
  }
 ],
 "metadata": {
  "kernelspec": {
   "display_name": "Python 3",
   "language": "python",
   "name": "python3"
  },
  "language_info": {
   "codemirror_mode": {
    "name": "ipython",
    "version": 3
   },
   "file_extension": ".py",
   "mimetype": "text/x-python",
   "name": "python",
   "nbconvert_exporter": "python",
   "pygments_lexer": "ipython3",
   "version": "3.6.10"
  }
 },
 "nbformat": 4,
 "nbformat_minor": 4
}
